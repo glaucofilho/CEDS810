{
 "cells": [
  {
   "cell_type": "code",
   "execution_count": 7,
   "metadata": {},
   "outputs": [],
   "source": [
    "from pyspark.sql import SparkSession\n",
    "from pyspark.sql.functions import col, when\n",
    "from pyspark.ml.feature import StringIndexer\n",
    "from pyspark.ml.classification import DecisionTreeClassifier\n",
    "from pyspark.ml.evaluation import MulticlassClassificationEvaluator\n",
    "from pyspark.ml.feature import VectorAssembler\n"
   ]
  },
  {
   "cell_type": "code",
   "execution_count": 14,
   "metadata": {},
   "outputs": [],
   "source": [
    "\n",
    "# Iniciar uma sessão Spark\n",
    "spark = SparkSession.builder \\\n",
    "    .appName(\"Titanic Survival Prediction\") \\\n",
    "    .getOrCreate()\n",
    "\n",
    "# Importando os dados\n",
    "titanic = spark.read.csv(\"/user/titanic.csv\", inferSchema=True, header=True, sep=\";\")"
   ]
  },
  {
   "cell_type": "code",
   "execution_count": 15,
   "metadata": {},
   "outputs": [
    {
     "name": "stdout",
     "output_type": "stream",
     "text": [
      "+--------+-----+--------------------+------+----+-----+-----+--------+----+-------+--------+--------------------+\n",
      "|Survived|Class|                Name|   Sex| Age|SibSp|ParCh|  Ticket|Fare|  Cabin|Embarked|            HomeDest|\n",
      "+--------+-----+--------------------+------+----+-----+-----+--------+----+-------+--------+--------------------+\n",
      "|       1|    1|Allen, Miss. Elis...|female|  29|    0|    0|   24160| 211|     B5|       S|        St Louis, MO|\n",
      "|       1|    1|Allison, Master. ...|  male|   1|    1|    2|  113781| 152|C22 C26|       S|Montreal, PQ / Ch...|\n",
      "|       0|    1|Allison, Miss. He...|female|   2|    1|    2|  113781| 152|C22 C26|       S|Montreal, PQ / Ch...|\n",
      "|       0|    1|Allison, Mr. Huds...|  male|  30|    1|    2|  113781| 152|C22 C26|       S|Montreal, PQ / Ch...|\n",
      "|       0|    1|Allison, Mrs. Hud...|female|  25|    1|    2|  113781| 152|C22 C26|       S|Montreal, PQ / Ch...|\n",
      "|       1|    1| Anderson, Mr. Harry|  male|  48|    0|    0|   19952|  27|    E12|       S|        New York, NY|\n",
      "|       1|    1|Andrews, Miss. Ko...|female|  63|    1|    0|   13502|  78|     D7|       S|          Hudson, NY|\n",
      "|       0|    1|Andrews, Mr. Thom...|  male|  39|    0|    0|  112050|   0|    A36|       S|         Belfast, NI|\n",
      "|       1|    1|Appleton, Mrs. Ed...|female|  53|    2|    0|   11769|  51|   C101|       S| Bayside, Queens, NY|\n",
      "|       0|    1|Artagaveytia, Mr....|  male|  71|    0|    0|PC 17609|  50|   NULL|       C| Montevideo, Uruguay|\n",
      "|       0|    1|Astor, Col. John ...|  male|  47|    1|    0|PC 17757| 228|C62 C64|       C|        New York, NY|\n",
      "|       1|    1|Astor, Mrs. John ...|female|  18|    1|    0|PC 17757| 228|C62 C64|       C|        New York, NY|\n",
      "|       1|    1|Aubart, Mme. Leon...|female|  24|    0|    0|PC 17477|  69|    B35|       C|       Paris, France|\n",
      "|       1|    1|Barber, Miss. Ell...|female|  26|    0|    0|   19877|  79|   NULL|       S|                NULL|\n",
      "|       1|    1|Barkworth, Mr. Al...|  male|  80|    0|    0|   27042|  30|    A23|       S|       Hessle, Yorks|\n",
      "|       0|    1| Baumann, Mr. John D|  male|NULL|    0|    0|PC 17318|  26|   NULL|       S|        New York, NY|\n",
      "|       0|    1|Baxter, Mr. Quigg...|  male|  24|    0|    1|PC 17558| 248|B58 B60|       C|        Montreal, PQ|\n",
      "|       1|    1|Baxter, Mrs. Jame...|female|  50|    0|    1|PC 17558| 248|B58 B60|       C|        Montreal, PQ|\n",
      "|       1|    1|Bazzani, Miss. Al...|female|  32|    0|    0|   11813|  76|    D15|       C|                NULL|\n",
      "|       0|    1|Beattie, Mr. Thomson|  male|  36|    0|    0|   13050|  75|     C6|       C|        Winnipeg, MN|\n",
      "+--------+-----+--------------------+------+----+-----+-----+--------+----+-------+--------+--------------------+\n",
      "only showing top 20 rows\n",
      "\n"
     ]
    }
   ],
   "source": [
    "titanic.show()"
   ]
  },
  {
   "cell_type": "code",
   "execution_count": 16,
   "metadata": {},
   "outputs": [],
   "source": [
    "titanic = titanic.withColumn(\"HomeDest\", when(col(\"HomeDest\").isNull(), \"Nao Informado\").otherwise(col(\"HomeDest\")))\n",
    "titanic = titanic.withColumn(\"Cabin\", when(col(\"Cabin\").isNull(), \"Nao Informado\").otherwise(col(\"Cabin\")))\n",
    "titanic = titanic.withColumn(\"Ticket\", when(col(\"Ticket\").isNull(), \"0\").otherwise(col(\"Ticket\")))\n",
    "titanic = titanic.withColumn(\"Fare\", when(col(\"Fare\").isNull(), 0).otherwise(col(\"Fare\")))\n",
    "titanic = titanic.withColumn(\"Embarked\", when(col(\"Embarked\").isNull(), \"Z\").otherwise(col(\"Embarked\")))\n",
    "titanic = titanic.withColumn(\"SibSp\", col(\"SibSp\").cast(\"string\"))\n",
    "titanic = titanic.withColumn(\"ParCh\", col(\"ParCh\").cast(\"string\"))"
   ]
  },
  {
   "cell_type": "code",
   "execution_count": 20,
   "metadata": {},
   "outputs": [
    {
     "name": "stdout",
     "output_type": "stream",
     "text": [
      "+-------+-------------------+------------------+--------------------+------+-----------------+------------------+------------------+------------------+-----------------+-----+--------+-------------------+\n",
      "|summary|           Survived|             Class|                Name|   Sex|              Age|             SibSp|             ParCh|            Ticket|             Fare|Cabin|Embarked|           HomeDest|\n",
      "+-------+-------------------+------------------+--------------------+------+-----------------+------------------+------------------+------------------+-----------------+-----+--------+-------------------+\n",
      "|  count|               1309|              1309|                1309|  1309|             1046|              1309|              1309|              1309|             1309| 1309|    1309|               1309|\n",
      "|   mean| 0.3819709702062643| 2.294881588999236|                NULL|  NULL|29.89770554493308|0.4988540870893812|0.3850267379679144| 249039.1368861024|33.33766233766234| NULL|    NULL|               NULL|\n",
      "| stddev|0.48605517086648325|0.8378360189701272|                NULL|  NULL|14.41497276121307|1.0416583905961012|0.8655602753495143|442685.31767656445|51.73996049144745| NULL|    NULL|               NULL|\n",
      "|    min|                  0|                 1|\"Flynn, Mr. John ...|female|                0|                 0|                 0|            110152|                0|  A10|       C|      ?Havana, Cuba|\n",
      "|    max|                  1|                 3|van Melkebeke, Mr...|  male|               80|                 8|                 9|         WE/P 5735|              512|    T|       Z|Zurich, Switzerland|\n",
      "+-------+-------------------+------------------+--------------------+------+-----------------+------------------+------------------+------------------+-----------------+-----+--------+-------------------+\n",
      "\n"
     ]
    }
   ],
   "source": [
    "titanic.describe().show()"
   ]
  },
  {
   "cell_type": "code",
   "execution_count": 23,
   "metadata": {},
   "outputs": [
    {
     "name": "stdout",
     "output_type": "stream",
     "text": [
      "Survived: 0\n",
      "Class: 0\n",
      "Name: 0\n",
      "Sex: 0\n",
      "Age: 263\n",
      "SibSp: 0\n",
      "ParCh: 0\n",
      "Ticket: 0\n",
      "Fare: 0\n",
      "Cabin: 0\n",
      "Embarked: 0\n",
      "HomeDest: 0\n"
     ]
    }
   ],
   "source": [
    "null_counts = [(col_name, titanic.where(col(col_name).isNull()).count()) for col_name in titanic.columns]\n",
    "for col_name, count in null_counts:\n",
    "    print(f\"{col_name}: {count}\")"
   ]
  },
  {
   "cell_type": "code",
   "execution_count": 24,
   "metadata": {},
   "outputs": [],
   "source": [
    "titanic = titanic.drop(\"Name\")"
   ]
  },
  {
   "cell_type": "code",
   "execution_count": 26,
   "metadata": {},
   "outputs": [],
   "source": [
    "num_rows = titanic.count()\n",
    "\n",
    "# Calculando a proporção para amostragem\n",
    "sampling_ratio = 425 / num_rows\n",
    "\n",
    "# Amostrando os sobreviventes e não sobreviventes\n",
    "sobreviventes = titanic.filter(col(\"Survived\") == 1).sample(False, sampling_ratio, seed=1234)\n",
    "nao_sobreviventes = titanic.filter(col(\"Survived\") == 0).sample(False, sampling_ratio, seed=1234)\n",
    "\n",
    "# Unindo os DataFrames amostrados\n",
    "balanced_df = sobreviventes.union(nao_sobreviventes)"
   ]
  },
  {
   "cell_type": "code",
   "execution_count": 13,
   "metadata": {},
   "outputs": [
    {
     "ename": "TypeError",
     "evalue": "object of type 'DataFrame' has no len()",
     "output_type": "error",
     "traceback": [
      "\u001b[0;31m---------------------------------------------------------------------------\u001b[0m",
      "\u001b[0;31mTypeError\u001b[0m                                 Traceback (most recent call last)",
      "\u001b[0;32m/tmp/ipykernel_1774/2673205374.py\u001b[0m in \u001b[0;36m<module>\u001b[0;34m\u001b[0m\n\u001b[1;32m     12\u001b[0m \u001b[0;34m\u001b[0m\u001b[0m\n\u001b[1;32m     13\u001b[0m \u001b[0;31m# Balanceando os Dados\u001b[0m\u001b[0;34m\u001b[0m\u001b[0;34m\u001b[0m\u001b[0m\n\u001b[0;32m---> 14\u001b[0;31m \u001b[0msobreviventes\u001b[0m \u001b[0;34m=\u001b[0m \u001b[0mtitanic\u001b[0m\u001b[0;34m.\u001b[0m\u001b[0mfilter\u001b[0m\u001b[0;34m(\u001b[0m\u001b[0mcol\u001b[0m\u001b[0;34m(\u001b[0m\u001b[0;34m\"Survived\"\u001b[0m\u001b[0;34m)\u001b[0m \u001b[0;34m==\u001b[0m \u001b[0;36m1\u001b[0m\u001b[0;34m)\u001b[0m\u001b[0;34m.\u001b[0m\u001b[0msample\u001b[0m\u001b[0;34m(\u001b[0m\u001b[0;32mFalse\u001b[0m\u001b[0;34m,\u001b[0m \u001b[0;36m425\u001b[0m\u001b[0;34m/\u001b[0m\u001b[0mlen\u001b[0m\u001b[0;34m(\u001b[0m\u001b[0mtitanic\u001b[0m\u001b[0;34m)\u001b[0m\u001b[0;34m,\u001b[0m \u001b[0mseed\u001b[0m\u001b[0;34m=\u001b[0m\u001b[0;36m1234\u001b[0m\u001b[0;34m)\u001b[0m\u001b[0;34m\u001b[0m\u001b[0;34m\u001b[0m\u001b[0m\n\u001b[0m\u001b[1;32m     15\u001b[0m \u001b[0mnao_sobreviventes\u001b[0m \u001b[0;34m=\u001b[0m \u001b[0mtitanic\u001b[0m\u001b[0;34m.\u001b[0m\u001b[0mfilter\u001b[0m\u001b[0;34m(\u001b[0m\u001b[0mcol\u001b[0m\u001b[0;34m(\u001b[0m\u001b[0;34m\"Survived\"\u001b[0m\u001b[0;34m)\u001b[0m \u001b[0;34m==\u001b[0m \u001b[0;36m0\u001b[0m\u001b[0;34m)\u001b[0m\u001b[0;34m.\u001b[0m\u001b[0msample\u001b[0m\u001b[0;34m(\u001b[0m\u001b[0;32mFalse\u001b[0m\u001b[0;34m,\u001b[0m \u001b[0;36m425\u001b[0m\u001b[0;34m/\u001b[0m\u001b[0mlen\u001b[0m\u001b[0;34m(\u001b[0m\u001b[0mtitanic\u001b[0m\u001b[0;34m)\u001b[0m\u001b[0;34m,\u001b[0m \u001b[0mseed\u001b[0m\u001b[0;34m=\u001b[0m\u001b[0;36m1234\u001b[0m\u001b[0;34m)\u001b[0m\u001b[0;34m\u001b[0m\u001b[0;34m\u001b[0m\u001b[0m\n\u001b[1;32m     16\u001b[0m \u001b[0mbalanced_df\u001b[0m \u001b[0;34m=\u001b[0m \u001b[0msobreviventes\u001b[0m\u001b[0;34m.\u001b[0m\u001b[0munion\u001b[0m\u001b[0;34m(\u001b[0m\u001b[0mnao_sobreviventes\u001b[0m\u001b[0;34m)\u001b[0m\u001b[0;34m\u001b[0m\u001b[0;34m\u001b[0m\u001b[0m\n",
      "\u001b[0;31mTypeError\u001b[0m: object of type 'DataFrame' has no len()"
     ]
    }
   ],
   "source": [
    "\n",
    "\n",
    "# Preparando o dataset para modelagem\n",
    "indexers = [StringIndexer(inputCol=column, outputCol=column+\"_index\").fit(balanced_df) for column in [\"Sex\", \"Embarked\", \"AgeGroup\"]]\n",
    "pipeline = Pipeline(stages=indexers)\n",
    "transformed_df = pipeline.fit(balanced_df).transform(balanced_df)\n",
    "\n",
    "assembler = VectorAssembler(inputCols=[\"Sex_index\", \"Fare\", \"Relatives\", \"Class_index\", \"AgeGroup_index\", \"Embarked_index\"], outputCol=\"features\")\n",
    "final_df = assembler.transform(transformed_df)\n",
    "\n",
    "# Dividindo o dataset em conjuntos de treinamento e validação\n",
    "(training_data, validation_data) = final_df.randomSplit([0.7, 0.3], seed=1234)\n",
    "\n",
    "# Criando o modelo de árvore de decisão\n",
    "dt = DecisionTreeClassifier(labelCol=\"Survived\", featuresCol=\"features\")\n",
    "\n",
    "# Treinando o modelo\n",
    "model = dt.fit(training_data)\n",
    "\n",
    "# Avaliando o modelo no conjunto de validação\n",
    "predictions = model.transform(validation_data)\n",
    "\n",
    "# Calculando a acurácia\n",
    "evaluator = MulticlassClassificationEvaluator(labelCol=\"Survived\", predictionCol=\"prediction\", metricName=\"accuracy\")\n",
    "accuracy = evaluator.evaluate(predictions)\n",
    "print(\"Accuracy:\", accuracy)\n",
    "\n",
    "# Calculando a precisão para sobreviventes e não sobreviventes\n",
    "predictions.groupBy(\"Survived\", \"prediction\").count().show()\n",
    "\n",
    "# Calculando a área sob a curva ROC\n",
    "evaluator_roc = BinaryClassificationEvaluator(labelCol=\"Survived\")\n",
    "roc_auc = evaluator_roc.evaluate(predictions)\n",
    "print(\"ROC AUC:\", roc_auc)\n",
    "\n",
    "# Encerrando a sessão Spark\n",
    "spark.stop()\n"
   ]
  }
 ],
 "metadata": {
  "kernelspec": {
   "display_name": "Python 3 (ipykernel)",
   "language": "python",
   "name": "python3"
  }
 },
 "nbformat": 4,
 "nbformat_minor": 2
}
