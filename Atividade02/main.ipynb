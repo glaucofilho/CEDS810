{
 "cells": [
  {
   "cell_type": "code",
   "execution_count": 197,
   "metadata": {},
   "outputs": [],
   "source": [
    "from pyspark.sql import SparkSession\n",
    "from pyspark.sql.functions import col\n",
    "from pyspark.sql.functions import when\n",
    "from pyspark.sql.functions import regexp_replace\n",
    "from pyspark.ml.feature import StringIndexer\n",
    "from pyspark.ml import Pipeline\n",
    "from pyspark.ml.classification import DecisionTreeClassifier\n",
    "from pyspark.ml.feature import VectorAssembler\n",
    "from pyspark.sql.functions import approx_count_distinct\n",
    "from pyspark.ml.classification import DecisionTreeClassifier\n",
    "from pyspark.ml.evaluation import BinaryClassificationEvaluator\n",
    "from pyspark.ml.tuning import CrossValidator, ParamGridBuilder\n"
   ]
  },
  {
   "cell_type": "markdown",
   "metadata": {},
   "source": [
    "## Criando Sessao e Lendo CSV"
   ]
  },
  {
   "cell_type": "code",
   "execution_count": 198,
   "metadata": {},
   "outputs": [],
   "source": [
    "spark = SparkSession.builder \\\n",
    "    .appName(\"Session Atividade 2\") \\\n",
    "    .getOrCreate()\n",
    "\n",
    "customer = spark.read.csv(\"/user/customer.csv\", inferSchema=True, header=True, sep=\";\")"
   ]
  },
  {
   "cell_type": "markdown",
   "metadata": {},
   "source": [
    "## Previa do CSV"
   ]
  },
  {
   "cell_type": "code",
   "execution_count": 199,
   "metadata": {},
   "outputs": [
    {
     "name": "stdout",
     "output_type": "stream",
     "text": [
      "+-----------+--------+---------+-----+---------+---+--------------------+-------------+---+------------+------+---------------+-------------+---------------+----------------+--------------+--------------+----------+---------------+----------------------+-----------------------+----------------------+---------------+-----------+-----------+--------------+------------------+-------------+----------------+--------+---------+\n",
      "|CUSTOMER_ID|    LAST|    FIRST|STATE|   REGION|SEX|          PROFESSION|BUY_INSURANCE|AGE|HAS_CHILDREN|SALARY|N_OF_DEPENDENTS|CAR_OWNERSHIP|HOUSE_OWNERSHIP|TIME_AS_CUSTOMER|MARITAL_STATUS|CREDIT_BALANCE|BANK_FUNDS|CHECKING_AMOUNT|MONEY_MONTLY_OVERDRAWN|T_AMOUNT_AUTOM_PAYMENTS|MONTHLY_CHECKS_WRITTEN|MORTGAGE_AMOUNT|N_TRANS_ATM|N_MORTGAGES|N_TRANS_TELLER|CREDIT_CARD_LIMITS|N_TRANS_KIOSK|N_TRANS_WEB_BANK|     LTV|  LTV_BIN|\n",
      "+-----------+--------+---------+-----+---------+---+--------------------+-------------+---+------------+------+---------------+-------------+---------------+----------------+--------------+--------------+----------+---------------+----------------------+-----------------------+----------------------+---------------+-----------+-----------+--------------+------------------+-------------+----------------+--------+---------+\n",
      "|     CU8589|    KALA|  IVERSON|   WI|  Midwest|  F|              PROF-9|           No| 49|           1| 68696|              1|            1|              1|               1|       WIDOWED|             0|     16100|             25|                 53,14|                   1749|                     4|           5500|          2|          1|             5|               800|            1|            3700|   25574|     HIGH|\n",
      "|     CU9823|  NESTOR|   HORTON|   CA|     West|  M|               Nurse|           No| 24|           0| 73850|              0|            1|              0|               2|        SINGLE|             0|         0|             25|                 53,06|                    504|                     0|              0|          0|          0|             0|              1500|            1|               0| 21862,5|   MEDIUM|\n",
      "|    CU12175|  DWIGHT|  ROLLINS|   MI|  Midwest|  M|Programmer/Developer|           No| 26|           1| 60249|              2|            1|              1|               2|       MARRIED|           452|       500|            134|                 53,42|                    625|                     4|           1036|          4|          1|             2|              1000|            4|            1036|19662,25|   MEDIUM|\n",
      "|     CU7924|   GRADY|   STATON|   NY|NorthEast|  M|Programmer/Developer|           No| 32|           0| 60466|              1|            1|              0|               1|        SINGLE|             0|       650|            265|                 53,18|                    278|                    17|              0|          3|          0|             2|               700|            3|               0| 16816,5|   MEDIUM|\n",
      "|    CU14284|DOMINICK|      LAW|   NY|NorthEast|  M|Construction Laborer|           No| 24|           0| 76570|              3|            1|              1|               3|        SINGLE|             0|         0|             25|                 53,06|                      0|                     1|            358|          0|          1|             0|              1500|            1|             358| 27042,5|     HIGH|\n",
      "|    CU14620|  DANIAL|   CORLEY|   UT|Southwest|  M|        Truck Driver|           No| 35|           1| 62756|              1|            1|              1|               1|       MARRIED|             0|       501|           1382|                 53,32|                   1636|                     8|           1500|          3|          1|             2|               500|            1|            1500|   22689|     HIGH|\n",
      "|    CU15186|  VERNON|    NIETO|   NY|NorthEast|  F|            IT Staff|           No| 36|           1| 62886|              1|            1|              1|               1|       MARRIED|             0|       600|             25|                 53,22|                    757|                     2|           1020|          3|          1|             2|              1000|            1|            1020| 22821,5|     HIGH|\n",
      "|     CU5165|   KITTY|   COFFEY|   MI|  Midwest|  F|        Truck Driver|           No| 26|           1| 61012|              1|            1|              1|               1|       MARRIED|             0|      2400|           1314|                 53,27|                   2299|                     3|           1300|          3|          1|             1|              1100|            0|            1300|   21353|   MEDIUM|\n",
      "|     CU5938|   TEDDY|  MURILLO|   CA|     West|  M|              Author|           No| 78|           1| 65134|              0|            1|              0|               2|        SINGLE|             0|         0|             25|                 53,08|                    514|                     4|              0|          1|          0|             0|               900|            0|               0| 20083,5|   MEDIUM|\n",
      "|     CU3296| MARYLEE| HATHAWAY|   CA|     West|  F|       Not specified|           No| 49|           1| 60322|              3|            1|              1|               4|       WIDOWED|         30650|      9550|            266|                 53,73|                  33850|                    12|           6500|          4|          1|             4|               900|            2|            1700| 20980,5|   MEDIUM|\n",
      "|     CU1069| THURMAN|  VAUGHAN|   MN|     West|  M|             PROF-15|           No| 80|           1| 63067|              0|            1|              0|               2|        SINGLE|             0|         0|             25|                 53,06|                    504|                     0|              0|          0|          0|             1|              1400|            0|               0|19766,75|   MEDIUM|\n",
      "|    CU13543|   DARYL|  ADDISON|   WA|     West|  F|             PROF-39|           No| 52|           1| 73090|              5|            1|              2|               5|      DIVORCED|             0|      1750|             25|                 53,33|                    249|                    10|           2728|          3|          2|             3|              1500|            1|            2728| 30972,5|VERY HIGH|\n",
      "|    CU11717|  LAVETA|    CASEY|   NY|NorthEast|  F|           Publisher|           No| 31|           0| 71782|              5|            1|              1|               5|      DIVORCED|             0|         0|             34|                 53,02|                      0|                     0|           2200|          2|          1|             1|              1500|            1|            2200| 23545,5|     HIGH|\n",
      "|     CU5928| ROBERTO|CORNELIUS|   NY|NorthEast|  M|    Childcare Worker|           No| 44|           1| 61056|              1|            1|              1|               1|      DIVORCED|             0|         0|            461|                 53,15|                    965|                     0|           2200|          2|          1|             1|              1000|            0|            2200|   23164|     HIGH|\n",
      "|    CU10012|  DORSEY|   PRIEST|   NM|Southwest|  M|             Cashier|           No| 52|           0| 59480|              3|            1|              1|               4|       MARRIED|             0|         0|             25|                 53,06|                      0|                     0|           1001|          0|          1|             0|               700|            1|            1001|   26070|     HIGH|\n",
      "|      CU197| ENRIQUE|  BARRIOS|   MI|  Midwest|  M|               Nurse|           No| 77|           0| 73461|              0|            1|              0|               2|        SINGLE|             0|         0|             25|                 53,06|                    598|                     0|              0|          0|          0|             0|              2500|            0|               0|27065,25|     HIGH|\n",
      "|      CU476|   CHONG|  CROWDER|   CA|     West|  M|Administrative As...|           No| 69|           1| 61943|              0|            1|              1|               2|       MARRIED|             0|         0|           1466|                 53,12|                   1971|                     0|            909|          2|          1|             1|               600|            0|             909|28385,75|     HIGH|\n",
      "|     CU9110|    JOHN|    CLARK|   DC|NorthEast|  M|Administrative As...|           No| 46|           1| 64648|              0|            1|              1|               2|      DIVORCED|             0|         0|             25|                 53,06|                      0|                     0|           2500|          0|          1|             1|               800|            1|            2500|   26762|     HIGH|\n",
      "|     CU7291|  LAUREN|    LAYNE|   MI|  Midwest|  M|               Nurse|           No| 42|           1| 58327|              0|            1|              0|               4|        SINGLE|             0|      5100|           1926|                 53,45|                   2570|                     4|              0|          4|          0|             2|               800|            1|            1500|15781,75|   MEDIUM|\n",
      "|     CU7148| VINCENT|     COBB|   OK|  Midwest|  M|Programmer/Developer|           No| 28|           0| 60968|              2|            1|              1|               2|       MARRIED|             0|       750|            206|                 53.00|                    725|                     3|            700|          2|          1|             3|               900|            1|             700|   25042|     HIGH|\n",
      "+-----------+--------+---------+-----+---------+---+--------------------+-------------+---+------------+------+---------------+-------------+---------------+----------------+--------------+--------------+----------+---------------+----------------------+-----------------------+----------------------+---------------+-----------+-----------+--------------+------------------+-------------+----------------+--------+---------+\n",
      "only showing top 20 rows\n",
      "\n"
     ]
    }
   ],
   "source": [
    "customer.show()"
   ]
  },
  {
   "cell_type": "markdown",
   "metadata": {},
   "source": [
    "## Target = BUY_INSURANCE, aplicar Arvore de decisão"
   ]
  },
  {
   "cell_type": "markdown",
   "metadata": {},
   "source": [
    "## Verificando tipos"
   ]
  },
  {
   "cell_type": "code",
   "execution_count": 200,
   "metadata": {},
   "outputs": [
    {
     "name": "stdout",
     "output_type": "stream",
     "text": [
      "root\n",
      " |-- CUSTOMER_ID: string (nullable = true)\n",
      " |-- LAST: string (nullable = true)\n",
      " |-- FIRST: string (nullable = true)\n",
      " |-- STATE: string (nullable = true)\n",
      " |-- REGION: string (nullable = true)\n",
      " |-- SEX: string (nullable = true)\n",
      " |-- PROFESSION: string (nullable = true)\n",
      " |-- BUY_INSURANCE: string (nullable = true)\n",
      " |-- AGE: integer (nullable = true)\n",
      " |-- HAS_CHILDREN: integer (nullable = true)\n",
      " |-- SALARY: integer (nullable = true)\n",
      " |-- N_OF_DEPENDENTS: integer (nullable = true)\n",
      " |-- CAR_OWNERSHIP: integer (nullable = true)\n",
      " |-- HOUSE_OWNERSHIP: integer (nullable = true)\n",
      " |-- TIME_AS_CUSTOMER: integer (nullable = true)\n",
      " |-- MARITAL_STATUS: string (nullable = true)\n",
      " |-- CREDIT_BALANCE: integer (nullable = true)\n",
      " |-- BANK_FUNDS: integer (nullable = true)\n",
      " |-- CHECKING_AMOUNT: integer (nullable = true)\n",
      " |-- MONEY_MONTLY_OVERDRAWN: string (nullable = true)\n",
      " |-- T_AMOUNT_AUTOM_PAYMENTS: integer (nullable = true)\n",
      " |-- MONTHLY_CHECKS_WRITTEN: integer (nullable = true)\n",
      " |-- MORTGAGE_AMOUNT: integer (nullable = true)\n",
      " |-- N_TRANS_ATM: integer (nullable = true)\n",
      " |-- N_MORTGAGES: integer (nullable = true)\n",
      " |-- N_TRANS_TELLER: integer (nullable = true)\n",
      " |-- CREDIT_CARD_LIMITS: integer (nullable = true)\n",
      " |-- N_TRANS_KIOSK: integer (nullable = true)\n",
      " |-- N_TRANS_WEB_BANK: integer (nullable = true)\n",
      " |-- LTV: string (nullable = true)\n",
      " |-- LTV_BIN: string (nullable = true)\n",
      "\n"
     ]
    }
   ],
   "source": [
    "customer.printSchema()"
   ]
  },
  {
   "cell_type": "markdown",
   "metadata": {},
   "source": [
    "## Foram encontrados dados numericos como String, fazendo a correcao:"
   ]
  },
  {
   "cell_type": "code",
   "execution_count": 201,
   "metadata": {},
   "outputs": [],
   "source": [
    "customer = customer.withColumn(\"MONEY_MONTLY_OVERDRAWN\", regexp_replace(col(\"MONEY_MONTLY_OVERDRAWN\"), \",\", \".\").cast(\"float\"))\n",
    "customer = customer.withColumn(\"LTV\", regexp_replace(col(\"LTV\"), \",\", \".\").cast(\"float\"))"
   ]
  },
  {
   "cell_type": "code",
   "execution_count": 202,
   "metadata": {},
   "outputs": [
    {
     "name": "stdout",
     "output_type": "stream",
     "text": [
      "+-----------+--------+---------+-----+---------+---+--------------------+-------------+---+------------+------+---------------+-------------+---------------+----------------+--------------+--------------+----------+---------------+----------------------+-----------------------+----------------------+---------------+-----------+-----------+--------------+------------------+-------------+----------------+--------+---------+\n",
      "|CUSTOMER_ID|    LAST|    FIRST|STATE|   REGION|SEX|          PROFESSION|BUY_INSURANCE|AGE|HAS_CHILDREN|SALARY|N_OF_DEPENDENTS|CAR_OWNERSHIP|HOUSE_OWNERSHIP|TIME_AS_CUSTOMER|MARITAL_STATUS|CREDIT_BALANCE|BANK_FUNDS|CHECKING_AMOUNT|MONEY_MONTLY_OVERDRAWN|T_AMOUNT_AUTOM_PAYMENTS|MONTHLY_CHECKS_WRITTEN|MORTGAGE_AMOUNT|N_TRANS_ATM|N_MORTGAGES|N_TRANS_TELLER|CREDIT_CARD_LIMITS|N_TRANS_KIOSK|N_TRANS_WEB_BANK|     LTV|  LTV_BIN|\n",
      "+-----------+--------+---------+-----+---------+---+--------------------+-------------+---+------------+------+---------------+-------------+---------------+----------------+--------------+--------------+----------+---------------+----------------------+-----------------------+----------------------+---------------+-----------+-----------+--------------+------------------+-------------+----------------+--------+---------+\n",
      "|     CU8589|    KALA|  IVERSON|   WI|  Midwest|  F|              PROF-9|           No| 49|           1| 68696|              1|            1|              1|               1|       WIDOWED|             0|     16100|             25|                 53.14|                   1749|                     4|           5500|          2|          1|             5|               800|            1|            3700| 25574.0|     HIGH|\n",
      "|     CU9823|  NESTOR|   HORTON|   CA|     West|  M|               Nurse|           No| 24|           0| 73850|              0|            1|              0|               2|        SINGLE|             0|         0|             25|                 53.06|                    504|                     0|              0|          0|          0|             0|              1500|            1|               0| 21862.5|   MEDIUM|\n",
      "|    CU12175|  DWIGHT|  ROLLINS|   MI|  Midwest|  M|Programmer/Developer|           No| 26|           1| 60249|              2|            1|              1|               2|       MARRIED|           452|       500|            134|                 53.42|                    625|                     4|           1036|          4|          1|             2|              1000|            4|            1036|19662.25|   MEDIUM|\n",
      "|     CU7924|   GRADY|   STATON|   NY|NorthEast|  M|Programmer/Developer|           No| 32|           0| 60466|              1|            1|              0|               1|        SINGLE|             0|       650|            265|                 53.18|                    278|                    17|              0|          3|          0|             2|               700|            3|               0| 16816.5|   MEDIUM|\n",
      "|    CU14284|DOMINICK|      LAW|   NY|NorthEast|  M|Construction Laborer|           No| 24|           0| 76570|              3|            1|              1|               3|        SINGLE|             0|         0|             25|                 53.06|                      0|                     1|            358|          0|          1|             0|              1500|            1|             358| 27042.5|     HIGH|\n",
      "|    CU14620|  DANIAL|   CORLEY|   UT|Southwest|  M|        Truck Driver|           No| 35|           1| 62756|              1|            1|              1|               1|       MARRIED|             0|       501|           1382|                 53.32|                   1636|                     8|           1500|          3|          1|             2|               500|            1|            1500| 22689.0|     HIGH|\n",
      "|    CU15186|  VERNON|    NIETO|   NY|NorthEast|  F|            IT Staff|           No| 36|           1| 62886|              1|            1|              1|               1|       MARRIED|             0|       600|             25|                 53.22|                    757|                     2|           1020|          3|          1|             2|              1000|            1|            1020| 22821.5|     HIGH|\n",
      "|     CU5165|   KITTY|   COFFEY|   MI|  Midwest|  F|        Truck Driver|           No| 26|           1| 61012|              1|            1|              1|               1|       MARRIED|             0|      2400|           1314|                 53.27|                   2299|                     3|           1300|          3|          1|             1|              1100|            0|            1300| 21353.0|   MEDIUM|\n",
      "|     CU5938|   TEDDY|  MURILLO|   CA|     West|  M|              Author|           No| 78|           1| 65134|              0|            1|              0|               2|        SINGLE|             0|         0|             25|                 53.08|                    514|                     4|              0|          1|          0|             0|               900|            0|               0| 20083.5|   MEDIUM|\n",
      "|     CU3296| MARYLEE| HATHAWAY|   CA|     West|  F|       Not specified|           No| 49|           1| 60322|              3|            1|              1|               4|       WIDOWED|         30650|      9550|            266|                 53.73|                  33850|                    12|           6500|          4|          1|             4|               900|            2|            1700| 20980.5|   MEDIUM|\n",
      "|     CU1069| THURMAN|  VAUGHAN|   MN|     West|  M|             PROF-15|           No| 80|           1| 63067|              0|            1|              0|               2|        SINGLE|             0|         0|             25|                 53.06|                    504|                     0|              0|          0|          0|             1|              1400|            0|               0|19766.75|   MEDIUM|\n",
      "|    CU13543|   DARYL|  ADDISON|   WA|     West|  F|             PROF-39|           No| 52|           1| 73090|              5|            1|              2|               5|      DIVORCED|             0|      1750|             25|                 53.33|                    249|                    10|           2728|          3|          2|             3|              1500|            1|            2728| 30972.5|VERY HIGH|\n",
      "|    CU11717|  LAVETA|    CASEY|   NY|NorthEast|  F|           Publisher|           No| 31|           0| 71782|              5|            1|              1|               5|      DIVORCED|             0|         0|             34|                 53.02|                      0|                     0|           2200|          2|          1|             1|              1500|            1|            2200| 23545.5|     HIGH|\n",
      "|     CU5928| ROBERTO|CORNELIUS|   NY|NorthEast|  M|    Childcare Worker|           No| 44|           1| 61056|              1|            1|              1|               1|      DIVORCED|             0|         0|            461|                 53.15|                    965|                     0|           2200|          2|          1|             1|              1000|            0|            2200| 23164.0|     HIGH|\n",
      "|    CU10012|  DORSEY|   PRIEST|   NM|Southwest|  M|             Cashier|           No| 52|           0| 59480|              3|            1|              1|               4|       MARRIED|             0|         0|             25|                 53.06|                      0|                     0|           1001|          0|          1|             0|               700|            1|            1001| 26070.0|     HIGH|\n",
      "|      CU197| ENRIQUE|  BARRIOS|   MI|  Midwest|  M|               Nurse|           No| 77|           0| 73461|              0|            1|              0|               2|        SINGLE|             0|         0|             25|                 53.06|                    598|                     0|              0|          0|          0|             0|              2500|            0|               0|27065.25|     HIGH|\n",
      "|      CU476|   CHONG|  CROWDER|   CA|     West|  M|Administrative As...|           No| 69|           1| 61943|              0|            1|              1|               2|       MARRIED|             0|         0|           1466|                 53.12|                   1971|                     0|            909|          2|          1|             1|               600|            0|             909|28385.75|     HIGH|\n",
      "|     CU9110|    JOHN|    CLARK|   DC|NorthEast|  M|Administrative As...|           No| 46|           1| 64648|              0|            1|              1|               2|      DIVORCED|             0|         0|             25|                 53.06|                      0|                     0|           2500|          0|          1|             1|               800|            1|            2500| 26762.0|     HIGH|\n",
      "|     CU7291|  LAUREN|    LAYNE|   MI|  Midwest|  M|               Nurse|           No| 42|           1| 58327|              0|            1|              0|               4|        SINGLE|             0|      5100|           1926|                 53.45|                   2570|                     4|              0|          4|          0|             2|               800|            1|            1500|15781.75|   MEDIUM|\n",
      "|     CU7148| VINCENT|     COBB|   OK|  Midwest|  M|Programmer/Developer|           No| 28|           0| 60968|              2|            1|              1|               2|       MARRIED|             0|       750|            206|                  53.0|                    725|                     3|            700|          2|          1|             3|               900|            1|             700| 25042.0|     HIGH|\n",
      "+-----------+--------+---------+-----+---------+---+--------------------+-------------+---+------------+------+---------------+-------------+---------------+----------------+--------------+--------------+----------+---------------+----------------------+-----------------------+----------------------+---------------+-----------+-----------+--------------+------------------+-------------+----------------+--------+---------+\n",
      "only showing top 20 rows\n",
      "\n"
     ]
    }
   ],
   "source": [
    "customer.show()"
   ]
  },
  {
   "cell_type": "markdown",
   "metadata": {},
   "source": [
    "## Fazendo um Describe dos dados"
   ]
  },
  {
   "cell_type": "code",
   "execution_count": 203,
   "metadata": {},
   "outputs": [
    {
     "name": "stdout",
     "output_type": "stream",
     "text": [
      "+-------+-----------+-----+-------+-----+-------+----+---------------+-------------+------------------+------------------+-----------------+-----------------+------------------+------------------+------------------+--------------+------------------+-----------------+------------------+----------------------+-----------------------+----------------------+------------------+------------------+------------------+------------------+------------------+------------------+------------------+-----------------+---------+\n",
      "|summary|CUSTOMER_ID| LAST|  FIRST|STATE| REGION| SEX|     PROFESSION|BUY_INSURANCE|               AGE|      HAS_CHILDREN|           SALARY|  N_OF_DEPENDENTS|     CAR_OWNERSHIP|   HOUSE_OWNERSHIP|  TIME_AS_CUSTOMER|MARITAL_STATUS|    CREDIT_BALANCE|       BANK_FUNDS|   CHECKING_AMOUNT|MONEY_MONTLY_OVERDRAWN|T_AMOUNT_AUTOM_PAYMENTS|MONTHLY_CHECKS_WRITTEN|   MORTGAGE_AMOUNT|       N_TRANS_ATM|       N_MORTGAGES|    N_TRANS_TELLER|CREDIT_CARD_LIMITS|     N_TRANS_KIOSK|  N_TRANS_WEB_BANK|              LTV|  LTV_BIN|\n",
      "+-------+-----------+-----+-------+-----+-------+----+---------------+-------------+------------------+------------------+-----------------+-----------------+------------------+------------------+------------------+--------------+------------------+-----------------+------------------+----------------------+-----------------------+----------------------+------------------+------------------+------------------+------------------+------------------+------------------+------------------+-----------------+---------+\n",
      "|  count|       1015| 1015|   1015| 1015|   1015|1015|           1015|         1015|              1015|              1015|             1015|             1015|              1015|              1015|              1015|          1015|              1015|             1015|              1015|                  1015|                   1015|                  1015|              1015|              1015|              1015|              1015|              1015|              1015|              1015|             1015|     1015|\n",
      "|   mean|       NULL| NULL|   NULL| NULL|   NULL|NULL|           NULL|         NULL|38.190147783251234|0.5113300492610837|65102.80295566502|1.993103448275862|0.9467980295566503|0.8049261083743843|2.4285714285714284|          NULL|2234.1014778325125|2639.839408866995| 1055.848275862069|    53.708157882314595|      4980.337931034483|     4.311330049261084|2066.1221674876847| 2.826600985221675|0.8049261083743843|1.7310344827586206| 1285.615763546798|1.8640394088669952|1449.6758620689654|22452.39039408867|     NULL|\n",
      "| stddev|       NULL| NULL|   NULL| NULL|   NULL|NULL|           NULL|         NULL|14.918394106597274|0.5001180377766468|6848.442846277457|1.549623522433759|0.2245466473592848|0.5077072350739917|1.2333992047170599|          NULL|11727.873803601524|4996.100695402684|3124.4059848269044|    1.6850125888497685|       20443.6578124019|     4.817335938750649| 3184.931347333881|1.8914011204972785|0.5077072350739917|1.4993662085725994| 858.2066930270321|1.8260760353304921|2428.9208272335786|6579.356570077857|     NULL|\n",
      "|    min|      CU100|AARON|ABRAHAM|   AK|Midwest|   F|     Accountant|           No|                 0|                 0|            37572|                0|                 0|                 0|                 1|      DIVORCED|                 0|                0|                25|                 32.16|                      0|                     0|                 0|                 0|                 0|                 0|               500|                 0|                 0|              0.0|     HIGH|\n",
      "|    max|     CU9988| ZACK| ZUNIGA|   WI|   West|   M|Waiter/Waitress|          Yes|                84|                 1|           109943|                6|                 1|                 2|                 5|       WIDOWED|            170498|            36000|             23476|                 73.61|                 499362|                    18|             45000|                 8|                 2|                 9|              5000|                10|             45000|         43101.25|VERY HIGH|\n",
      "+-------+-----------+-----+-------+-----+-------+----+---------------+-------------+------------------+------------------+-----------------+-----------------+------------------+------------------+------------------+--------------+------------------+-----------------+------------------+----------------------+-----------------------+----------------------+------------------+------------------+------------------+------------------+------------------+------------------+------------------+-----------------+---------+\n",
      "\n"
     ]
    }
   ],
   "source": [
    "customer.describe().show()"
   ]
  },
  {
   "cell_type": "code",
   "execution_count": 204,
   "metadata": {},
   "outputs": [
    {
     "name": "stdout",
     "output_type": "stream",
     "text": [
      "Column 'CUSTOMER_ID' has 1065 unique values.\n",
      "Column 'LAST' has 852 unique values.\n",
      "Column 'FIRST' has 857 unique values.\n",
      "Column 'STATE' has 22 unique values.\n",
      "Column 'REGION' has 5 unique values.\n",
      "Column 'SEX' has 2 unique values.\n",
      "Column 'PROFESSION' has 97 unique values.\n",
      "Column 'BUY_INSURANCE' has 2 unique values.\n",
      "Column 'AGE' has 65 unique values.\n",
      "Column 'HAS_CHILDREN' has 2 unique values.\n",
      "Column 'SALARY' has 1026 unique values.\n",
      "Column 'N_OF_DEPENDENTS' has 7 unique values.\n",
      "Column 'CAR_OWNERSHIP' has 2 unique values.\n",
      "Column 'HOUSE_OWNERSHIP' has 3 unique values.\n",
      "Column 'TIME_AS_CUSTOMER' has 5 unique values.\n",
      "Column 'MARITAL_STATUS' has 5 unique values.\n",
      "Column 'CREDIT_BALANCE' has 95 unique values.\n",
      "Column 'BANK_FUNDS' has 272 unique values.\n",
      "Column 'CHECKING_AMOUNT' has 347 unique values.\n",
      "Column 'MONEY_MONTLY_OVERDRAWN' has 279 unique values.\n",
      "Column 'T_AMOUNT_AUTOM_PAYMENTS' has 679 unique values.\n",
      "Column 'MONTHLY_CHECKS_WRITTEN' has 19 unique values.\n",
      "Column 'MORTGAGE_AMOUNT' has 244 unique values.\n",
      "Column 'N_TRANS_ATM' has 9 unique values.\n",
      "Column 'N_MORTGAGES' has 3 unique values.\n",
      "Column 'N_TRANS_TELLER' has 9 unique values.\n",
      "Column 'CREDIT_CARD_LIMITS' has 24 unique values.\n",
      "Column 'N_TRANS_KIOSK' has 11 unique values.\n",
      "Column 'N_TRANS_WEB_BANK' has 228 unique values.\n",
      "Column 'LTV' has 1004 unique values.\n",
      "Column 'LTV_BIN' has 4 unique values.\n"
     ]
    }
   ],
   "source": [
    "unique_value_counts = {}\n",
    "for col in customer.columns:\n",
    "    count = customer.select(approx_count_distinct(col)).collect()[0][0]\n",
    "    unique_value_counts[col] = count\n",
    "for col, count in unique_value_counts.items():\n",
    "    print(f\"Column '{col}' has {count} unique values.\")"
   ]
  },
  {
   "cell_type": "markdown",
   "metadata": {},
   "source": [
    "## Removendo dados nao relevantes"
   ]
  },
  {
   "cell_type": "code",
   "execution_count": 205,
   "metadata": {},
   "outputs": [],
   "source": [
    "columns_to_drop = [\"CUSTOMER_ID\", \"LAST\", \"FIRST\", \"PROFESSION\", \"STATE\"]  # Add columns you want to drop here\n",
    "customer = customer.drop(*columns_to_drop)"
   ]
  },
  {
   "cell_type": "markdown",
   "metadata": {},
   "source": [
    "## Verificando dados nulos"
   ]
  },
  {
   "cell_type": "code",
   "execution_count": 206,
   "metadata": {},
   "outputs": [
    {
     "name": "stdout",
     "output_type": "stream",
     "text": [
      "REGION: 0\n",
      "SEX: 0\n",
      "BUY_INSURANCE: 0\n",
      "AGE: 0\n",
      "HAS_CHILDREN: 0\n",
      "SALARY: 0\n",
      "N_OF_DEPENDENTS: 0\n",
      "CAR_OWNERSHIP: 0\n",
      "HOUSE_OWNERSHIP: 0\n",
      "TIME_AS_CUSTOMER: 0\n",
      "MARITAL_STATUS: 0\n",
      "CREDIT_BALANCE: 0\n",
      "BANK_FUNDS: 0\n",
      "CHECKING_AMOUNT: 0\n",
      "MONEY_MONTLY_OVERDRAWN: 0\n",
      "T_AMOUNT_AUTOM_PAYMENTS: 0\n",
      "MONTHLY_CHECKS_WRITTEN: 0\n",
      "MORTGAGE_AMOUNT: 0\n",
      "N_TRANS_ATM: 0\n",
      "N_MORTGAGES: 0\n",
      "N_TRANS_TELLER: 0\n",
      "CREDIT_CARD_LIMITS: 0\n",
      "N_TRANS_KIOSK: 0\n",
      "N_TRANS_WEB_BANK: 0\n",
      "LTV: 0\n",
      "LTV_BIN: 0\n"
     ]
    }
   ],
   "source": [
    "from pyspark.sql.functions import col\n",
    "\n",
    "null_counts = [(col_name, customer.where(col(col_name).isNull()).count()) for col_name in customer.columns]\n",
    "for col_name, count in null_counts:\n",
    "    print(f\"{col_name}: {count}\")\n"
   ]
  },
  {
   "cell_type": "markdown",
   "metadata": {},
   "source": [
    "## Sem dados Nulos!"
   ]
  },
  {
   "cell_type": "code",
   "execution_count": 207,
   "metadata": {},
   "outputs": [
    {
     "name": "stdout",
     "output_type": "stream",
     "text": [
      "+--------------------+-----+\n",
      "|            features|label|\n",
      "+--------------------+-----+\n",
      "|[49.0,1.0,68696.0...|    0|\n",
      "|(25,[0,2,4,6,9,10...|    0|\n",
      "|[26.0,1.0,60249.0...|    0|\n",
      "|[32.0,0.0,60466.0...|    0|\n",
      "|(25,[0,2,3,4,5,6,...|    0|\n",
      "|[35.0,1.0,62756.0...|    0|\n",
      "|[36.0,1.0,62886.0...|    0|\n",
      "|[26.0,1.0,61012.0...|    0|\n",
      "|(25,[0,1,2,4,6,9,...|    0|\n",
      "|[49.0,1.0,60322.0...|    0|\n",
      "|(25,[0,1,2,4,6,9,...|    0|\n",
      "|[52.0,1.0,73090.0...|    0|\n",
      "|[31.0,0.0,71782.0...|    0|\n",
      "|[44.0,1.0,61056.0...|    0|\n",
      "|[52.0,0.0,59480.0...|    0|\n",
      "|(25,[0,2,4,6,9,10...|    0|\n",
      "|[69.0,1.0,61943.0...|    0|\n",
      "|[46.0,1.0,64648.0...|    0|\n",
      "|[42.0,1.0,58327.0...|    0|\n",
      "|[28.0,0.0,60968.0...|    0|\n",
      "+--------------------+-----+\n",
      "only showing top 20 rows\n",
      "\n"
     ]
    }
   ],
   "source": [
    "var_categoricas = ['REGION', 'SEX', 'MARITAL_STATUS', 'LTV_BIN']\n",
    "indexers = [\n",
    "    StringIndexer(inputCol=column, outputCol=column+\"_index\").fit(customer)\n",
    "    for column in var_categoricas\n",
    "]\n",
    "pipeline = Pipeline(stages=indexers)\n",
    "customer = pipeline.fit(customer).transform(customer)\n",
    "customer = customer.drop(*var_categoricas)\n",
    "\n",
    "feature_cols = customer.columns.copy()\n",
    "feature_cols.remove(\"BUY_INSURANCE\")\n",
    "\n",
    "vector_assembler = VectorAssembler(\n",
    "    inputCols=feature_cols,\n",
    "    outputCol=\"features\"\n",
    ")\n",
    "\n",
    "customer = vector_assembler.transform(customer)\n",
    "\n",
    "customer = customer.select(\n",
    "    col(\"features\").alias(\"features\"),\n",
    "    col(\"BUY_INSURANCE\").alias(\"label\"))\n",
    "\n",
    "\n",
    "customer = customer.withColumn(\"label\", when(customer[\"label\"] == \"No\", 0).otherwise(1))\n",
    "customer.show()"
   ]
  },
  {
   "cell_type": "code",
   "execution_count": 208,
   "metadata": {},
   "outputs": [
    {
     "name": "stdout",
     "output_type": "stream",
     "text": [
      "ROC-AUC Score: 0.8796711509715994\n"
     ]
    }
   ],
   "source": [
    "(train_data, test_data) = customer.randomSplit([0.7, 0.3], seed=420)\n",
    "\n",
    "dt = DecisionTreeClassifier(featuresCol=\"features\")\n",
    "evaluator = BinaryClassificationEvaluator(metricName=\"areaUnderROC\")\n",
    "\n",
    "paramGrid = ParamGridBuilder() \\\n",
    "    .addGrid(dt.maxDepth, [5, 10, 15]) \\\n",
    "    .addGrid(dt.maxBins, [20, 40, 60, 80]) \\\n",
    "    .build()\n",
    "\n",
    "\n",
    "crossval = CrossValidator(estimator=dt,\n",
    "                          estimatorParamMaps=paramGrid,\n",
    "                          evaluator=evaluator,\n",
    "                          numFolds=5)\n",
    "\n",
    "cvModel = crossval.fit(train_data)\n",
    "\n",
    "bestModel = cvModel.bestModel\n",
    "predictions = bestModel.transform(test_data)\n",
    "roc_auc = evaluator.evaluate(predictions)\n",
    "print(f\"ROC-AUC Score: {roc_auc}\")\n"
   ]
  },
  {
   "cell_type": "code",
   "execution_count": 209,
   "metadata": {},
   "outputs": [
    {
     "name": "stdout",
     "output_type": "stream",
     "text": [
      "Accuracy: 0.8498402555910544\n",
      "Precision: 0.8621285880890186\n",
      "Recall: 0.8498402555910544\n",
      "F1 Score: 0.8533440362635478\n"
     ]
    }
   ],
   "source": [
    "from pyspark.ml.evaluation import MulticlassClassificationEvaluator\n",
    "\n",
    "evaluator_accuracy = MulticlassClassificationEvaluator(metricName=\"accuracy\")\n",
    "evaluator_precision = MulticlassClassificationEvaluator(metricName=\"weightedPrecision\")\n",
    "evaluator_recall = MulticlassClassificationEvaluator(metricName=\"weightedRecall\")\n",
    "evaluator_f1 = MulticlassClassificationEvaluator(metricName=\"f1\")\n",
    "\n",
    "accuracy = evaluator_accuracy.evaluate(predictions)\n",
    "precision = evaluator_precision.evaluate(predictions)\n",
    "recall = evaluator_recall.evaluate(predictions)\n",
    "f1_score = evaluator_f1.evaluate(predictions)\n",
    "\n",
    "print(f\"Accuracy: {accuracy}\")\n",
    "print(f\"Precision: {precision}\")\n",
    "print(f\"Recall: {recall}\")\n",
    "print(f\"F1 Score: {f1_score}\")\n"
   ]
  },
  {
   "cell_type": "code",
   "execution_count": 234,
   "metadata": {},
   "outputs": [
    {
     "name": "stdout",
     "output_type": "stream",
     "text": [
      "DecisionTreeClassificationModel: uid=DecisionTreeClassifier_f3dfdd5cb9d4, depth=5, numNodes=25, numClasses=2, numFeatures=25\n",
      "  If (BANK_FUNDS <= 225.5)\n",
      "   If (CREDIT_CARD_LIMITS <= 650.0)\n",
      "    If (AGE <= 32.5)\n",
      "     If (N_OF_DEPENDENTS <= 0.5)\n",
      "      BUY_INSURANCE: Yes\n",
      "     Else (N_OF_DEPENDENTS > 0.5)\n",
      "      BUY_INSURANCE: No\n",
      "    Else (AGE > 32.5)\n",
      "     BUY_INSURANCE: No\n",
      "   Else (CREDIT_CARD_LIMITS > 650.0)\n",
      "    BUY_INSURANCE: No\n",
      "  Else (BANK_FUNDS > 225.5)\n",
      "   If (CHECKING_AMOUNT <= 128.0)\n",
      "    If (CREDIT_BALANCE <= 350.0)\n",
      "     If (MONEY_MONTLY_OVERDRAWN <= 53.83500099182129)\n",
      "      If (T_AMOUNT_AUTOM_PAYMENTS <= 1298.0)\n",
      "       BUY_INSURANCE: Yes\n",
      "      Else (T_AMOUNT_AUTOM_PAYMENTS > 1298.0)\n",
      "       BUY_INSURANCE: No\n",
      "     Else (MONEY_MONTLY_OVERDRAWN > 53.83500099182129)\n",
      "      BUY_INSURANCE: Yes\n",
      "    Else (CREDIT_BALANCE > 350.0)\n",
      "     If (MONTHLY_CHECKS_WRITTEN <= 16.5)\n",
      "      BUY_INSURANCE: No\n",
      "     Else (MONTHLY_CHECKS_WRITTEN > 16.5)\n",
      "      BUY_INSURANCE: Yes\n",
      "   Else (CHECKING_AMOUNT > 128.0)\n",
      "    If (MONEY_MONTLY_OVERDRAWN <= 54.17499923706055)\n",
      "     If (MONTHLY_CHECKS_WRITTEN <= 17.5)\n",
      "      BUY_INSURANCE: No\n",
      "     Else (MONTHLY_CHECKS_WRITTEN > 17.5)\n",
      "      BUY_INSURANCE: Yes\n",
      "    Else (MONEY_MONTLY_OVERDRAWN > 54.17499923706055)\n",
      "     If (CHECKING_AMOUNT <= 3239.5)\n",
      "      BUY_INSURANCE: Yes\n",
      "     Else (CHECKING_AMOUNT > 3239.5)\n",
      "      BUY_INSURANCE: No\n",
      "\n",
      "['AGE', 'N_OF_DEPENDENTS', 'CREDIT_BALANCE', 'BANK_FUNDS', 'CHECKING_AMOUNT', 'MONEY_MONTLY_OVERDRAWN', 'T_AMOUNT_AUTOM_PAYMENTS', 'MONTHLY_CHECKS_WRITTEN', 'CREDIT_CARD_LIMITS']\n"
     ]
    }
   ],
   "source": [
    "\n",
    "\n",
    "regras = bestModel.toDebugString.replace(\"Predict: 1.0\", \"BUY_INSURANCE: Yes\").replace(\"Predict: 0.0\", \"BUY_INSURANCE: No\")\n",
    "f = 0\n",
    "used_features = []\n",
    "for feature in feature_cols:\n",
    "    regras = regras.replace(f\"feature {f} \", f\"{feature} \")\n",
    "    if feature in regras:\n",
    "        used_features.append(feature)\n",
    "    f = f +1\n",
    "print(regras)\n",
    "print(used_features)"
   ]
  },
  {
   "cell_type": "code",
   "execution_count": 236,
   "metadata": {},
   "outputs": [
    {
     "name": "stdout",
     "output_type": "stream",
     "text": [
      "{\n",
      " \"name\": \"Root\",\n",
      " \"children\": [\n",
      "  {\n",
      "   \"name\": \"BANK_FUNDS <= 225.5\",\n",
      "   \"children\": [\n",
      "    {\n",
      "     \"name\": \"CREDIT_CARD_LIMITS <= 650.0\",\n",
      "     \"children\": [\n",
      "      {\n",
      "       \"name\": \"AGE <= 32.5\",\n",
      "       \"children\": [\n",
      "        {\n",
      "         \"name\": \"N_OF_DEPENDENTS <= 0.5\",\n",
      "         \"children\": [\n",
      "          {\n",
      "           \"name\": \"BUY_INSURANCE: Yes\"\n",
      "          }\n",
      "         ]\n",
      "        },\n",
      "        {\n",
      "         \"name\": \"N_OF_DEPENDENTS > 0.5\",\n",
      "         \"children\": [\n",
      "          {\n",
      "           \"name\": \"BUY_INSURANCE: No\"\n",
      "          }\n",
      "         ]\n",
      "        }\n",
      "       ]\n",
      "      },\n",
      "      {\n",
      "       \"name\": \"AGE > 32.5\",\n",
      "       \"children\": [\n",
      "        {\n",
      "         \"name\": \"BUY_INSURANCE: No\"\n",
      "        }\n",
      "       ]\n",
      "      }\n",
      "     ]\n",
      "    },\n",
      "    {\n",
      "     \"name\": \"CREDIT_CARD_LIMITS > 650.0\",\n",
      "     \"children\": [\n",
      "      {\n",
      "       \"name\": \"BUY_INSURANCE: No\"\n",
      "      }\n",
      "     ]\n",
      "    }\n",
      "   ]\n",
      "  },\n",
      "  {\n",
      "   \"name\": \"BANK_FUNDS > 225.5\",\n",
      "   \"children\": [\n",
      "    {\n",
      "     \"name\": \"CHECKING_AMOUNT <= 128.0\",\n",
      "     \"children\": [\n",
      "      {\n",
      "       \"name\": \"CREDIT_BALANCE <= 350.0\",\n",
      "       \"children\": [\n",
      "        {\n",
      "         \"name\": \"MONEY_MONTLY_OVERDRAWN <= 53.83500099182129\",\n",
      "         \"children\": [\n",
      "          {\n",
      "           \"name\": \"T_AMOUNT_AUTOM_PAYMENTS <= 1298.0\",\n",
      "           \"children\": [\n",
      "            {\n",
      "             \"name\": \"BUY_INSURANCE: Yes\"\n",
      "            }\n",
      "           ]\n",
      "          },\n",
      "          {\n",
      "           \"name\": \"T_AMOUNT_AUTOM_PAYMENTS > 1298.0\",\n",
      "           \"children\": [\n",
      "            {\n",
      "             \"name\": \"BUY_INSURANCE: No\"\n",
      "            }\n",
      "           ]\n",
      "          }\n",
      "         ]\n",
      "        },\n",
      "        {\n",
      "         \"name\": \"MONEY_MONTLY_OVERDRAWN > 53.83500099182129\",\n",
      "         \"children\": [\n",
      "          {\n",
      "           \"name\": \"BUY_INSURANCE: Yes\"\n",
      "          }\n",
      "         ]\n",
      "        }\n",
      "       ]\n",
      "      },\n",
      "      {\n",
      "       \"name\": \"CREDIT_BALANCE > 350.0\",\n",
      "       \"children\": [\n",
      "        {\n",
      "         \"name\": \"MONTHLY_CHECKS_WRITTEN <= 16.5\",\n",
      "         \"children\": [\n",
      "          {\n",
      "           \"name\": \"BUY_INSURANCE: No\"\n",
      "          }\n",
      "         ]\n",
      "        },\n",
      "        {\n",
      "         \"name\": \"MONTHLY_CHECKS_WRITTEN > 16.5\",\n",
      "         \"children\": [\n",
      "          {\n",
      "           \"name\": \"BUY_INSURANCE: Yes\"\n",
      "          }\n",
      "         ]\n",
      "        }\n",
      "       ]\n",
      "      }\n",
      "     ]\n",
      "    },\n",
      "    {\n",
      "     \"name\": \"CHECKING_AMOUNT > 128.0\",\n",
      "     \"children\": [\n",
      "      {\n",
      "       \"name\": \"MONEY_MONTLY_OVERDRAWN <= 54.17499923706055\",\n",
      "       \"children\": [\n",
      "        {\n",
      "         \"name\": \"MONTHLY_CHECKS_WRITTEN <= 17.5\",\n",
      "         \"children\": [\n",
      "          {\n",
      "           \"name\": \"BUY_INSURANCE: No\"\n",
      "          }\n",
      "         ]\n",
      "        },\n",
      "        {\n",
      "         \"name\": \"MONTHLY_CHECKS_WRITTEN > 17.5\",\n",
      "         \"children\": [\n",
      "          {\n",
      "           \"name\": \"BUY_INSURANCE: Yes\"\n",
      "          }\n",
      "         ]\n",
      "        }\n",
      "       ]\n",
      "      },\n",
      "      {\n",
      "       \"name\": \"MONEY_MONTLY_OVERDRAWN > 54.17499923706055\",\n",
      "       \"children\": [\n",
      "        {\n",
      "         \"name\": \"CHECKING_AMOUNT <= 3239.5\",\n",
      "         \"children\": [\n",
      "          {\n",
      "           \"name\": \"BUY_INSURANCE: Yes\"\n",
      "          }\n",
      "         ]\n",
      "        },\n",
      "        {\n",
      "         \"name\": \"CHECKING_AMOUNT > 3239.5\",\n",
      "         \"children\": [\n",
      "          {\n",
      "           \"name\": \"BUY_INSURANCE: No\"\n",
      "          }\n",
      "         ]\n",
      "        }\n",
      "       ]\n",
      "      }\n",
      "     ]\n",
      "    }\n",
      "   ]\n",
      "  }\n",
      " ]\n",
      "}\n"
     ]
    }
   ],
   "source": [
    "def parse_debug_string_lines(lines):\n",
    "    \n",
    "    block = []\n",
    "    while lines:\n",
    "\n",
    "\n",
    "        if lines[0].startswith('If'):\n",
    "            bl = ' '.join(lines.pop(0).split()[1:]).replace('(', '').replace(')', '')\n",
    "            block.append({'name': bl, 'children': parse_debug_string_lines(lines)})\n",
    "\n",
    "\n",
    "            if lines[0].startswith('Else'):\n",
    "                be = ' '.join(lines.pop(0).split()[1:]).replace('(', '').replace(')', '')\n",
    "                block.append({'name': be, 'children': parse_debug_string_lines(lines)})\n",
    "        elif not lines[0].startswith(('If', 'Else')):\n",
    "            block2 = lines.pop(0)\n",
    "            block.append({'name': block2})\n",
    "        else:\n",
    "            break\n",
    "    \n",
    "    return block\n",
    "\n",
    "\n",
    "def debug_str_to_json(debug_string):\n",
    "    data = []\n",
    "    for line in debug_string.splitlines():\n",
    "        if line.strip():\n",
    "            line = line.strip()\n",
    "            data.append(line)\n",
    "        else:\n",
    "            break\n",
    "        if not line: break\n",
    "\n",
    "    json = {'name': 'Root', 'children': parse_debug_string_lines(data[1:])}\n",
    "    return json\n",
    "\n",
    "import json\n",
    "dict_tree_json = debug_str_to_json(regras)\n",
    "print(json.dumps(dict_tree_json,indent = 1 ))"
   ]
  },
  {
   "cell_type": "markdown",
   "metadata": {},
   "source": [
    "https://vanya.jp.net/vtree/"
   ]
  },
  {
   "cell_type": "code",
   "execution_count": 262,
   "metadata": {},
   "outputs": [
    {
     "data": {
      "image/svg+xml": [
       "<svg xmlns:xlink=\"http://www.w3.org/1999/xlink\" xmlns=\"http://www.w3.org/2000/svg\" class=\"vtree\" width=\"960\" height=\"800\"><style>\n",
       ".vtree-node text { font: 14px sans-serif; }\n",
       ".vtree-link { fill: none; stroke: #888; stroke-width: 2px; }\n",
       ".vtree-table { stroke-width: 2px; stroke: steelblue; }\n",
       "path.vtree-table { fill: white; }\n",
       "g.vtree-node rect { fill: white; stroke: black; stroke-width: 1px; }\n",
       "g.vtree-node rect.number-text { fill: #d8f0ed; }\n",
       "g.vtree-node rect.string-text { fill: #e7f0db; }\n",
       "g.vtree-node rect.boolean-text { fill: #e1d8f0; }\n",
       "g.vtree-node rect.null-text { fill: #888; }\n",
       "</style><g class=\"vtree-root\" transform=\"translate(466.7996941364337,298.5495567237847)scale(0.2642545101403458)\"><g class=\"vtree-node\" transform=\"translate(480,106)\"><g class=\"vtree-node\" transform=\"translate(-41,0)\"><path class=\"vtree-link\" d=\"M41,12C41,59 -1380,59 -1380,106\"/><g class=\"vtree-node\" transform=\"translate(41,74)\"><path class=\"vtree-link\" d=\"M-1421,32C-1421,32 480,32 480,32\"/><g class=\"vtree-node\" transform=\"translate(-1524,0)\"><path class=\"vtree-link\" d=\"M103,32C103,79 -30,79 -30,126\"/><g class=\"vtree-node\" transform=\"translate(103,94)\"><path class=\"vtree-link\" d=\"M-133,32C-133,32 346,32 346,32\"/><g class=\"vtree-node\" transform=\"translate(-265,0)\"><path class=\"vtree-link\" d=\"M132,32C132,79 28,79 28,126\"/><g class=\"vtree-node\" transform=\"translate(132,94)\"><path class=\"vtree-link\" d=\"M-104,32C-104,32 243,32 243,32\"/><g class=\"vtree-node\" transform=\"translate(-171,0)\"><path class=\"vtree-link\" d=\"M67,32C67,79 -52,79 -52,126\"/><g class=\"vtree-node\" transform=\"translate(67,94)\"><path class=\"vtree-link\" d=\"M-119,32C-119,32 124,32 124,32\"/><g class=\"vtree-node\" transform=\"translate(-238,0)\"><path class=\"vtree-link\" d=\"M119,32C119,79 119,79 119,126\"/><g class=\"vtree-node\" transform=\"translate(119,94)\"><g class=\"vtree-node\" transform=\"translate(-101,0)\"><g transform=\"translate(0,20)\"><g transform=\"translate(0,0)\"><rect class=\"string-text\" x=\"0\" y=\"0\" width=\"44\" height=\"24\"/><text x=\"4\" y=\"20\">name</text></g><g transform=\"translate(44,0)\"><rect class=\"string-text\" x=\"0\" y=\"0\" width=\"158\" height=\"24\"/><text x=\"4\" y=\"20\">BUY_INSURANCE: Yes</text></g></g><g><text x=\"101\" y=\"16\" text-anchor=\"middle\">children[0]</text></g></g></g><g transform=\"translate(0,20)\"><g transform=\"translate(0,0)\"><rect class=\"string-text\" x=\"0\" y=\"0\" width=\"44\" height=\"24\"/><text x=\"4\" y=\"20\">name</text></g><g transform=\"translate(44,0)\"><rect class=\"string-text\" x=\"0\" y=\"0\" width=\"193\" height=\"24\"/><text x=\"4\" y=\"20\">N_OF_DEPENDENTS &lt;= 0.5</text></g></g><g><text x=\"119\" y=\"16\" text-anchor=\"middle\">children[0]</text></g></g><g class=\"vtree-node\" transform=\"translate(9,0)\"><path class=\"vtree-link\" d=\"M115,32C115,79 115,79 115,126\"/><g class=\"vtree-node\" transform=\"translate(115,94)\"><g class=\"vtree-node\" transform=\"translate(-99,0)\"><g transform=\"translate(0,20)\"><g transform=\"translate(0,0)\"><rect class=\"string-text\" x=\"0\" y=\"0\" width=\"44\" height=\"24\"/><text x=\"4\" y=\"20\">name</text></g><g transform=\"translate(44,0)\"><rect class=\"string-text\" x=\"0\" y=\"0\" width=\"153\" height=\"24\"/><text x=\"4\" y=\"20\">BUY_INSURANCE: No</text></g></g><g><text x=\"99\" y=\"16\" text-anchor=\"middle\">children[0]</text></g></g></g><g transform=\"translate(0,20)\"><g transform=\"translate(0,0)\"><rect class=\"string-text\" x=\"0\" y=\"0\" width=\"44\" height=\"24\"/><text x=\"4\" y=\"20\">name</text></g><g transform=\"translate(44,0)\"><rect class=\"string-text\" x=\"0\" y=\"0\" width=\"185\" height=\"24\"/><text x=\"4\" y=\"20\">N_OF_DEPENDENTS &gt; 0.5</text></g></g><g><text x=\"115\" y=\"16\" text-anchor=\"middle\">children[1]</text></g></g></g><g transform=\"translate(0,20)\"><g transform=\"translate(0,0)\"><rect class=\"string-text\" x=\"0\" y=\"0\" width=\"44\" height=\"24\"/><text x=\"4\" y=\"20\">name</text></g><g transform=\"translate(44,0)\"><rect class=\"string-text\" x=\"0\" y=\"0\" width=\"90\" height=\"24\"/><text x=\"4\" y=\"20\">AGE &lt;= 32.5</text></g></g><g><text x=\"67\" y=\"16\" text-anchor=\"middle\">children[0]</text></g></g><g class=\"vtree-node\" transform=\"translate(180,0)\"><path class=\"vtree-link\" d=\"M63,32C63,79 63,79 63,126\"/><g class=\"vtree-node\" transform=\"translate(63,94)\"><g class=\"vtree-node\" transform=\"translate(-99,0)\"><g transform=\"translate(0,20)\"><g transform=\"translate(0,0)\"><rect class=\"string-text\" x=\"0\" y=\"0\" width=\"44\" height=\"24\"/><text x=\"4\" y=\"20\">name</text></g><g transform=\"translate(44,0)\"><rect class=\"string-text\" x=\"0\" y=\"0\" width=\"153\" height=\"24\"/><text x=\"4\" y=\"20\">BUY_INSURANCE: No</text></g></g><g><text x=\"99\" y=\"16\" text-anchor=\"middle\">children[0]</text></g></g></g><g transform=\"translate(0,20)\"><g transform=\"translate(0,0)\"><rect class=\"string-text\" x=\"0\" y=\"0\" width=\"44\" height=\"24\"/><text x=\"4\" y=\"20\">name</text></g><g transform=\"translate(44,0)\"><rect class=\"string-text\" x=\"0\" y=\"0\" width=\"81\" height=\"24\"/><text x=\"4\" y=\"20\">AGE &gt; 32.5</text></g></g><g><text x=\"63\" y=\"16\" text-anchor=\"middle\">children[1]</text></g></g></g><g transform=\"translate(0,20)\"><g transform=\"translate(0,0)\"><rect class=\"string-text\" x=\"0\" y=\"0\" width=\"44\" height=\"24\"/><text x=\"4\" y=\"20\">name</text></g><g transform=\"translate(44,0)\"><rect class=\"string-text\" x=\"0\" y=\"0\" width=\"220\" height=\"24\"/><text x=\"4\" y=\"20\">CREDIT_CARD_LIMITS &lt;= 650.0</text></g></g><g><text x=\"132\" y=\"16\" text-anchor=\"middle\">children[0]</text></g></g><g class=\"vtree-node\" transform=\"translate(218,0)\"><path class=\"vtree-link\" d=\"M128,32C128,79 128,79 128,126\"/><g class=\"vtree-node\" transform=\"translate(128,94)\"><g class=\"vtree-node\" transform=\"translate(-99,0)\"><g transform=\"translate(0,20)\"><g transform=\"translate(0,0)\"><rect class=\"string-text\" x=\"0\" y=\"0\" width=\"44\" height=\"24\"/><text x=\"4\" y=\"20\">name</text></g><g transform=\"translate(44,0)\"><rect class=\"string-text\" x=\"0\" y=\"0\" width=\"153\" height=\"24\"/><text x=\"4\" y=\"20\">BUY_INSURANCE: No</text></g></g><g><text x=\"99\" y=\"16\" text-anchor=\"middle\">children[0]</text></g></g></g><g transform=\"translate(0,20)\"><g transform=\"translate(0,0)\"><rect class=\"string-text\" x=\"0\" y=\"0\" width=\"44\" height=\"24\"/><text x=\"4\" y=\"20\">name</text></g><g transform=\"translate(44,0)\"><rect class=\"string-text\" x=\"0\" y=\"0\" width=\"212\" height=\"24\"/><text x=\"4\" y=\"20\">CREDIT_CARD_LIMITS &gt; 650.0</text></g></g><g><text x=\"128\" y=\"16\" text-anchor=\"middle\">children[1]</text></g></g></g><g transform=\"translate(0,20)\"><g transform=\"translate(0,0)\"><rect class=\"string-text\" x=\"0\" y=\"0\" width=\"44\" height=\"24\"/><text x=\"4\" y=\"20\">name</text></g><g transform=\"translate(44,0)\"><rect class=\"string-text\" x=\"0\" y=\"0\" width=\"162\" height=\"24\"/><text x=\"4\" y=\"20\">BANK_FUNDS &lt;= 225.5</text></g></g><g><text x=\"103\" y=\"16\" text-anchor=\"middle\">children[0]</text></g></g><g class=\"vtree-node\" transform=\"translate(381,0)\"><path class=\"vtree-link\" d=\"M99,32C99,79 -484,79 -484,126\"/><g class=\"vtree-node\" transform=\"translate(99,94)\"><path class=\"vtree-link\" d=\"M-583,32C-583,32 838,32 838,32\"/><g class=\"vtree-node\" transform=\"translate(-710,0)\"><path class=\"vtree-link\" d=\"M127,32C127,79 -188,79 -188,126\"/><g class=\"vtree-node\" transform=\"translate(127,94)\"><path class=\"vtree-link\" d=\"M-315,32C-315,32 523,32 523,32\"/><g class=\"vtree-node\" transform=\"translate(-434,0)\"><path class=\"vtree-link\" d=\"M119,32C119,79 -60,79 -60,126\"/><g class=\"vtree-node\" transform=\"translate(119,94)\"><path class=\"vtree-link\" d=\"M-179,32C-179,32 345,32 345,32\"/><g class=\"vtree-node\" transform=\"translate(-353,0)\"><path class=\"vtree-link\" d=\"M174,32C174,79 5,79 5,126\"/><g class=\"vtree-node\" transform=\"translate(174,94)\"><path class=\"vtree-link\" d=\"M-169,32C-169,32 176,32 176,32\"/><g class=\"vtree-node\" transform=\"translate(-340,0)\"><path class=\"vtree-link\" d=\"M171,32C171,79 171,79 171,126\"/><g class=\"vtree-node\" transform=\"translate(171,94)\"><g class=\"vtree-node\" transform=\"translate(-101,0)\"><g transform=\"translate(0,20)\"><g transform=\"translate(0,0)\"><rect class=\"string-text\" x=\"0\" y=\"0\" width=\"44\" height=\"24\"/><text x=\"4\" y=\"20\">name</text></g><g transform=\"translate(44,0)\"><rect class=\"string-text\" x=\"0\" y=\"0\" width=\"158\" height=\"24\"/><text x=\"4\" y=\"20\">BUY_INSURANCE: Yes</text></g></g><g><text x=\"101\" y=\"16\" text-anchor=\"middle\">children[0]</text></g></g></g><g transform=\"translate(0,20)\"><g transform=\"translate(0,0)\"><rect class=\"string-text\" x=\"0\" y=\"0\" width=\"44\" height=\"24\"/><text x=\"4\" y=\"20\">name</text></g><g transform=\"translate(44,0)\"><rect class=\"string-text\" x=\"0\" y=\"0\" width=\"297\" height=\"24\"/><text x=\"4\" y=\"20\">T_AMOUNT_AUTOM_PAYMENTS &lt;= 1298....</text></g></g><g><text x=\"171\" y=\"16\" text-anchor=\"middle\">children[0]</text></g></g><g class=\"vtree-node\" transform=\"translate(11,0)\"><path class=\"vtree-link\" d=\"M165,32C165,79 165,79 165,126\"/><g class=\"vtree-node\" transform=\"translate(165,94)\"><g class=\"vtree-node\" transform=\"translate(-99,0)\"><g transform=\"translate(0,20)\"><g transform=\"translate(0,0)\"><rect class=\"string-text\" x=\"0\" y=\"0\" width=\"44\" height=\"24\"/><text x=\"4\" y=\"20\">name</text></g><g transform=\"translate(44,0)\"><rect class=\"string-text\" x=\"0\" y=\"0\" width=\"153\" height=\"24\"/><text x=\"4\" y=\"20\">BUY_INSURANCE: No</text></g></g><g><text x=\"99\" y=\"16\" text-anchor=\"middle\">children[0]</text></g></g></g><g transform=\"translate(0,20)\"><g transform=\"translate(0,0)\"><rect class=\"string-text\" x=\"0\" y=\"0\" width=\"44\" height=\"24\"/><text x=\"4\" y=\"20\">name</text></g><g transform=\"translate(44,0)\"><rect class=\"string-text\" x=\"0\" y=\"0\" width=\"285\" height=\"24\"/><text x=\"4\" y=\"20\">T_AMOUNT_AUTOM_PAYMENTS &gt; 1298.0</text></g></g><g><text x=\"165\" y=\"16\" text-anchor=\"middle\">children[1]</text></g></g></g><g transform=\"translate(0,20)\"><g transform=\"translate(0,0)\"><rect class=\"string-text\" x=\"0\" y=\"0\" width=\"44\" height=\"24\"/><text x=\"4\" y=\"20\">name</text></g><g transform=\"translate(44,0)\"><rect class=\"string-text\" x=\"0\" y=\"0\" width=\"303\" height=\"24\"/><text x=\"4\" y=\"20\">MONEY_MONTLY_OVERDRAWN &lt;= 53.835...</text></g></g><g><text x=\"174\" y=\"16\" text-anchor=\"middle\">children[0]</text></g></g><g class=\"vtree-node\" transform=\"translate(171,0)\"><path class=\"vtree-link\" d=\"M174,32C174,79 174,79 174,126\"/><g class=\"vtree-node\" transform=\"translate(174,94)\"><g class=\"vtree-node\" transform=\"translate(-101,0)\"><g transform=\"translate(0,20)\"><g transform=\"translate(0,0)\"><rect class=\"string-text\" x=\"0\" y=\"0\" width=\"44\" height=\"24\"/><text x=\"4\" y=\"20\">name</text></g><g transform=\"translate(44,0)\"><rect class=\"string-text\" x=\"0\" y=\"0\" width=\"158\" height=\"24\"/><text x=\"4\" y=\"20\">BUY_INSURANCE: Yes</text></g></g><g><text x=\"101\" y=\"16\" text-anchor=\"middle\">children[0]</text></g></g></g><g transform=\"translate(0,20)\"><g transform=\"translate(0,0)\"><rect class=\"string-text\" x=\"0\" y=\"0\" width=\"44\" height=\"24\"/><text x=\"4\" y=\"20\">name</text></g><g transform=\"translate(44,0)\"><rect class=\"string-text\" x=\"0\" y=\"0\" width=\"303\" height=\"24\"/><text x=\"4\" y=\"20\">MONEY_MONTLY_OVERDRAWN &gt; 53.8350...</text></g></g><g><text x=\"174\" y=\"16\" text-anchor=\"middle\">children[1]</text></g></g></g><g transform=\"translate(0,20)\"><g transform=\"translate(0,0)\"><rect class=\"string-text\" x=\"0\" y=\"0\" width=\"44\" height=\"24\"/><text x=\"4\" y=\"20\">name</text></g><g transform=\"translate(44,0)\"><rect class=\"string-text\" x=\"0\" y=\"0\" width=\"193\" height=\"24\"/><text x=\"4\" y=\"20\">CREDIT_BALANCE &lt;= 350.0</text></g></g><g><text x=\"119\" y=\"16\" text-anchor=\"middle\">children[0]</text></g></g><g class=\"vtree-node\" transform=\"translate(408,0)\"><path class=\"vtree-link\" d=\"M115,32C115,79 -40,79 -40,126\"/><g class=\"vtree-node\" transform=\"translate(115,94)\"><path class=\"vtree-link\" d=\"M-155,32C-155,32 160,32 160,32\"/><g class=\"vtree-node\" transform=\"translate(-310,0)\"><path class=\"vtree-link\" d=\"M155,32C155,79 155,79 155,126\"/><g class=\"vtree-node\" transform=\"translate(155,94)\"><g class=\"vtree-node\" transform=\"translate(-99,0)\"><g transform=\"translate(0,20)\"><g transform=\"translate(0,0)\"><rect class=\"string-text\" x=\"0\" y=\"0\" width=\"44\" height=\"24\"/><text x=\"4\" y=\"20\">name</text></g><g transform=\"translate(44,0)\"><rect class=\"string-text\" x=\"0\" y=\"0\" width=\"153\" height=\"24\"/><text x=\"4\" y=\"20\">BUY_INSURANCE: No</text></g></g><g><text x=\"99\" y=\"16\" text-anchor=\"middle\">children[0]</text></g></g></g><g transform=\"translate(0,20)\"><g transform=\"translate(0,0)\"><rect class=\"string-text\" x=\"0\" y=\"0\" width=\"44\" height=\"24\"/><text x=\"4\" y=\"20\">name</text></g><g transform=\"translate(44,0)\"><rect class=\"string-text\" x=\"0\" y=\"0\" width=\"265\" height=\"24\"/><text x=\"4\" y=\"20\">MONTHLY_CHECKS_WRITTEN &lt;= 16.5</text></g></g><g><text x=\"155\" y=\"16\" text-anchor=\"middle\">children[0]</text></g></g><g class=\"vtree-node\" transform=\"translate(9,0)\"><path class=\"vtree-link\" d=\"M151,32C151,79 151,79 151,126\"/><g class=\"vtree-node\" transform=\"translate(151,94)\"><g class=\"vtree-node\" transform=\"translate(-101,0)\"><g transform=\"translate(0,20)\"><g transform=\"translate(0,0)\"><rect class=\"string-text\" x=\"0\" y=\"0\" width=\"44\" height=\"24\"/><text x=\"4\" y=\"20\">name</text></g><g transform=\"translate(44,0)\"><rect class=\"string-text\" x=\"0\" y=\"0\" width=\"158\" height=\"24\"/><text x=\"4\" y=\"20\">BUY_INSURANCE: Yes</text></g></g><g><text x=\"101\" y=\"16\" text-anchor=\"middle\">children[0]</text></g></g></g><g transform=\"translate(0,20)\"><g transform=\"translate(0,0)\"><rect class=\"string-text\" x=\"0\" y=\"0\" width=\"44\" height=\"24\"/><text x=\"4\" y=\"20\">name</text></g><g transform=\"translate(44,0)\"><rect class=\"string-text\" x=\"0\" y=\"0\" width=\"257\" height=\"24\"/><text x=\"4\" y=\"20\">MONTHLY_CHECKS_WRITTEN &gt; 16.5</text></g></g><g><text x=\"151\" y=\"16\" text-anchor=\"middle\">children[1]</text></g></g></g><g transform=\"translate(0,20)\"><g transform=\"translate(0,0)\"><rect class=\"string-text\" x=\"0\" y=\"0\" width=\"44\" height=\"24\"/><text x=\"4\" y=\"20\">name</text></g><g transform=\"translate(44,0)\"><rect class=\"string-text\" x=\"0\" y=\"0\" width=\"185\" height=\"24\"/><text x=\"4\" y=\"20\">CREDIT_BALANCE &gt; 350.0</text></g></g><g><text x=\"115\" y=\"16\" text-anchor=\"middle\">children[1]</text></g></g></g><g transform=\"translate(0,20)\"><g transform=\"translate(0,0)\"><rect class=\"string-text\" x=\"0\" y=\"0\" width=\"44\" height=\"24\"/><text x=\"4\" y=\"20\">name</text></g><g transform=\"translate(44,0)\"><rect class=\"string-text\" x=\"0\" y=\"0\" width=\"210\" height=\"24\"/><text x=\"4\" y=\"20\">CHECKING_AMOUNT &lt;= 128.0</text></g></g><g><text x=\"127\" y=\"16\" text-anchor=\"middle\">children[0]</text></g></g><g class=\"vtree-node\" transform=\"translate(715,0)\"><path class=\"vtree-link\" d=\"M123,32C123,79 -145,79 -145,126\"/><g class=\"vtree-node\" transform=\"translate(123,94)\"><path class=\"vtree-link\" d=\"M-268,32C-268,32 315,32 315,32\"/><g class=\"vtree-node\" transform=\"translate(-442,0)\"><path class=\"vtree-link\" d=\"M174,32C174,79 19,79 19,126\"/><g class=\"vtree-node\" transform=\"translate(174,94)\"><path class=\"vtree-link\" d=\"M-155,32C-155,32 160,32 160,32\"/><g class=\"vtree-node\" transform=\"translate(-310,0)\"><path class=\"vtree-link\" d=\"M155,32C155,79 155,79 155,126\"/><g class=\"vtree-node\" transform=\"translate(155,94)\"><g class=\"vtree-node\" transform=\"translate(-99,0)\"><g transform=\"translate(0,20)\"><g transform=\"translate(0,0)\"><rect class=\"string-text\" x=\"0\" y=\"0\" width=\"44\" height=\"24\"/><text x=\"4\" y=\"20\">name</text></g><g transform=\"translate(44,0)\"><rect class=\"string-text\" x=\"0\" y=\"0\" width=\"153\" height=\"24\"/><text x=\"4\" y=\"20\">BUY_INSURANCE: No</text></g></g><g><text x=\"99\" y=\"16\" text-anchor=\"middle\">children[0]</text></g></g></g><g transform=\"translate(0,20)\"><g transform=\"translate(0,0)\"><rect class=\"string-text\" x=\"0\" y=\"0\" width=\"44\" height=\"24\"/><text x=\"4\" y=\"20\">name</text></g><g transform=\"translate(44,0)\"><rect class=\"string-text\" x=\"0\" y=\"0\" width=\"265\" height=\"24\"/><text x=\"4\" y=\"20\">MONTHLY_CHECKS_WRITTEN &lt;= 17.5</text></g></g><g><text x=\"155\" y=\"16\" text-anchor=\"middle\">children[0]</text></g></g><g class=\"vtree-node\" transform=\"translate(9,0)\"><path class=\"vtree-link\" d=\"M151,32C151,79 151,79 151,126\"/><g class=\"vtree-node\" transform=\"translate(151,94)\"><g class=\"vtree-node\" transform=\"translate(-101,0)\"><g transform=\"translate(0,20)\"><g transform=\"translate(0,0)\"><rect class=\"string-text\" x=\"0\" y=\"0\" width=\"44\" height=\"24\"/><text x=\"4\" y=\"20\">name</text></g><g transform=\"translate(44,0)\"><rect class=\"string-text\" x=\"0\" y=\"0\" width=\"158\" height=\"24\"/><text x=\"4\" y=\"20\">BUY_INSURANCE: Yes</text></g></g><g><text x=\"101\" y=\"16\" text-anchor=\"middle\">children[0]</text></g></g></g><g transform=\"translate(0,20)\"><g transform=\"translate(0,0)\"><rect class=\"string-text\" x=\"0\" y=\"0\" width=\"44\" height=\"24\"/><text x=\"4\" y=\"20\">name</text></g><g transform=\"translate(44,0)\"><rect class=\"string-text\" x=\"0\" y=\"0\" width=\"257\" height=\"24\"/><text x=\"4\" y=\"20\">MONTHLY_CHECKS_WRITTEN &gt; 17.5</text></g></g><g><text x=\"151\" y=\"16\" text-anchor=\"middle\">children[1]</text></g></g></g><g transform=\"translate(0,20)\"><g transform=\"translate(0,0)\"><rect class=\"string-text\" x=\"0\" y=\"0\" width=\"44\" height=\"24\"/><text x=\"4\" y=\"20\">name</text></g><g transform=\"translate(44,0)\"><rect class=\"string-text\" x=\"0\" y=\"0\" width=\"303\" height=\"24\"/><text x=\"4\" y=\"20\">MONEY_MONTLY_OVERDRAWN &lt;= 54.174...</text></g></g><g><text x=\"174\" y=\"16\" text-anchor=\"middle\">children[0]</text></g></g><g class=\"vtree-node\" transform=\"translate(141,0)\"><path class=\"vtree-link\" d=\"M174,32C174,79 42,79 42,126\"/><g class=\"vtree-node\" transform=\"translate(174,94)\"><path class=\"vtree-link\" d=\"M-132,32C-132,32 136,32 136,32\"/><g class=\"vtree-node\" transform=\"translate(-263,0)\"><path class=\"vtree-link\" d=\"M131,32C131,79 131,79 131,126\"/><g class=\"vtree-node\" transform=\"translate(131,94)\"><g class=\"vtree-node\" transform=\"translate(-101,0)\"><g transform=\"translate(0,20)\"><g transform=\"translate(0,0)\"><rect class=\"string-text\" x=\"0\" y=\"0\" width=\"44\" height=\"24\"/><text x=\"4\" y=\"20\">name</text></g><g transform=\"translate(44,0)\"><rect class=\"string-text\" x=\"0\" y=\"0\" width=\"158\" height=\"24\"/><text x=\"4\" y=\"20\">BUY_INSURANCE: Yes</text></g></g><g><text x=\"101\" y=\"16\" text-anchor=\"middle\">children[0]</text></g></g></g><g transform=\"translate(0,20)\"><g transform=\"translate(0,0)\"><rect class=\"string-text\" x=\"0\" y=\"0\" width=\"44\" height=\"24\"/><text x=\"4\" y=\"20\">name</text></g><g transform=\"translate(44,0)\"><rect class=\"string-text\" x=\"0\" y=\"0\" width=\"218\" height=\"24\"/><text x=\"4\" y=\"20\">CHECKING_AMOUNT &lt;= 3239.5</text></g></g><g><text x=\"131\" y=\"16\" text-anchor=\"middle\">children[0]</text></g></g><g class=\"vtree-node\" transform=\"translate(9,0)\"><path class=\"vtree-link\" d=\"M127,32C127,79 127,79 127,126\"/><g class=\"vtree-node\" transform=\"translate(127,94)\"><g class=\"vtree-node\" transform=\"translate(-99,0)\"><g transform=\"translate(0,20)\"><g transform=\"translate(0,0)\"><rect class=\"string-text\" x=\"0\" y=\"0\" width=\"44\" height=\"24\"/><text x=\"4\" y=\"20\">name</text></g><g transform=\"translate(44,0)\"><rect class=\"string-text\" x=\"0\" y=\"0\" width=\"153\" height=\"24\"/><text x=\"4\" y=\"20\">BUY_INSURANCE: No</text></g></g><g><text x=\"99\" y=\"16\" text-anchor=\"middle\">children[0]</text></g></g></g><g transform=\"translate(0,20)\"><g transform=\"translate(0,0)\"><rect class=\"string-text\" x=\"0\" y=\"0\" width=\"44\" height=\"24\"/><text x=\"4\" y=\"20\">name</text></g><g transform=\"translate(44,0)\"><rect class=\"string-text\" x=\"0\" y=\"0\" width=\"210\" height=\"24\"/><text x=\"4\" y=\"20\">CHECKING_AMOUNT &gt; 3239.5</text></g></g><g><text x=\"127\" y=\"16\" text-anchor=\"middle\">children[1]</text></g></g></g><g transform=\"translate(0,20)\"><g transform=\"translate(0,0)\"><rect class=\"string-text\" x=\"0\" y=\"0\" width=\"44\" height=\"24\"/><text x=\"4\" y=\"20\">name</text></g><g transform=\"translate(44,0)\"><rect class=\"string-text\" x=\"0\" y=\"0\" width=\"303\" height=\"24\"/><text x=\"4\" y=\"20\">MONEY_MONTLY_OVERDRAWN &gt; 54.1749...</text></g></g><g><text x=\"174\" y=\"16\" text-anchor=\"middle\">children[1]</text></g></g></g><g transform=\"translate(0,20)\"><g transform=\"translate(0,0)\"><rect class=\"string-text\" x=\"0\" y=\"0\" width=\"44\" height=\"24\"/><text x=\"4\" y=\"20\">name</text></g><g transform=\"translate(44,0)\"><rect class=\"string-text\" x=\"0\" y=\"0\" width=\"202\" height=\"24\"/><text x=\"4\" y=\"20\">CHECKING_AMOUNT &gt; 128.0</text></g></g><g><text x=\"123\" y=\"16\" text-anchor=\"middle\">children[1]</text></g></g></g><g transform=\"translate(0,20)\"><g transform=\"translate(0,0)\"><rect class=\"string-text\" x=\"0\" y=\"0\" width=\"44\" height=\"24\"/><text x=\"4\" y=\"20\">name</text></g><g transform=\"translate(44,0)\"><rect class=\"string-text\" x=\"0\" y=\"0\" width=\"154\" height=\"24\"/><text x=\"4\" y=\"20\">BANK_FUNDS &gt; 225.5</text></g></g><g><text x=\"99\" y=\"16\" text-anchor=\"middle\">children[1]</text></g></g></g><g transform=\"translate(0,0)\"><rect class=\"string-text\" x=\"0\" y=\"0\" width=\"44\" height=\"24\"/><text x=\"4\" y=\"20\">name</text></g><g transform=\"translate(44,0)\"><rect class=\"string-text\" x=\"0\" y=\"0\" width=\"38\" height=\"24\"/><text x=\"4\" y=\"20\">Root</text></g></g></g></g></svg>"
      ],
      "text/plain": [
       "<IPython.core.display.SVG object>"
      ]
     },
     "metadata": {},
     "output_type": "display_data"
    }
   ],
   "source": [
    "from IPython.display import SVG, display\n",
    "def show_svg():\n",
    "    display(SVG(filename='/home/glauco/staging/dt.svg'))\n",
    "show_svg()\n"
   ]
  },
  {
   "cell_type": "code",
   "execution_count": null,
   "metadata": {},
   "outputs": [],
   "source": [
    "# #################################################\n",
    "# #Plotando a curva ROC\n",
    "# #################################################\n",
    "\n",
    "# from pyspark.sql.functions import udf\n",
    "# from pyspark.sql.types import FloatType\n",
    "# import matplotlib.pyplot as plt\n",
    "\n",
    "# # Define a UDF to extract the probability of the positive class\n",
    "# def extract_probability(probability_vector):\n",
    "#     return float(probability_vector[1])\n",
    "\n",
    "# extract_prob_udf = udf(extract_probability, FloatType())\n",
    "\n",
    "# # Update the DataFrame to include a column for the positive class probability\n",
    "# predictions = predictions.withColumn(\"positive_probability\", extract_prob_udf(\"probability\"))\n",
    "\n",
    "# # Now compute the ROC curve\n",
    "# thresholds = [i / 100.0 for i in range(100)]  # Creating a list of threshold values from 0 to 1\n",
    "# roc_points = []\n",
    "\n",
    "# for threshold in thresholds:\n",
    "#     # Create a new column 'predicted_label' based on the probability threshold\n",
    "#     prediction_with_threshold = predictions.withColumn('predicted_label', (col(\"positive_probability\") >= threshold).cast(\"integer\"))\n",
    "\n",
    "#     # True Positive (TP): correctly predicted positive observations\n",
    "#     TP = prediction_with_threshold.filter('predicted_label = 1 AND label = 1').count()\n",
    "#     # False Positive (FP): incorrectly predicted positive observations\n",
    "#     FP = prediction_with_threshold.filter('predicted_label = 1 AND label = 0').count()\n",
    "#     # True Negative (TN): correctly predicted negative observations\n",
    "#     TN = prediction_with_threshold.filter('predicted_label = 0 AND label = 0').count()\n",
    "#     # False Negative (FN): incorrectly predicted negative observations\n",
    "#     FN = prediction_with_threshold.filter('predicted_label = 0 AND label = 1').count()\n",
    "    \n",
    "#     # Calculate True Positive Rate (TPR) and False Positive Rate (FPR)\n",
    "#     TPR = TP / (TP + FN) if (TP + FN) else 0\n",
    "#     FPR = FP / (FP + TN) if (FP + TN) else 0\n",
    "    \n",
    "#     roc_points.append((FPR, TPR))\n",
    "\n",
    "# # Extract FPR and TPR into separate lists for plotting\n",
    "# fpr, tpr = zip(*roc_points)\n",
    "\n",
    "# # Plot ROC curve using Matplotlib\n",
    "# plt.figure(figsize=(8, 6))\n",
    "# plt.plot(fpr, tpr, color='darkorange', lw=2, label='ROC curve')\n",
    "# plt.plot([0, 1], [0, 1], color='navy', lw=2, linestyle='--')\n",
    "# plt.xlim([0.0, 1.0])\n",
    "# plt.ylim([0.0, 1.05])\n",
    "# plt.xlabel('False Positive Rate')\n",
    "# plt.ylabel('True Positive Rate')\n",
    "# plt.title('Receiver Operating Characteristic')\n",
    "# plt.legend(loc=\"lower right\")\n",
    "# plt.show()\n",
    "\n"
   ]
  },
  {
   "cell_type": "code",
   "execution_count": null,
   "metadata": {},
   "outputs": [
    {
     "ename": "AttributeError",
     "evalue": "'DataFrame' object has no attribute '_jdf'",
     "output_type": "error",
     "traceback": [
      "\u001b[0;31m---------------------------------------------------------------------------\u001b[0m",
      "\u001b[0;31mAttributeError\u001b[0m                            Traceback (most recent call last)",
      "\u001b[0;32m/tmp/ipykernel_13165/2272050094.py\u001b[0m in \u001b[0;36m<module>\u001b[0;34m\u001b[0m\n\u001b[1;32m     16\u001b[0m \u001b[0;31m# Assemble feature vector\u001b[0m\u001b[0;34m\u001b[0m\u001b[0;34m\u001b[0m\u001b[0m\n\u001b[1;32m     17\u001b[0m \u001b[0massembler\u001b[0m \u001b[0;34m=\u001b[0m \u001b[0mVectorAssembler\u001b[0m\u001b[0;34m(\u001b[0m\u001b[0minputCols\u001b[0m\u001b[0;34m=\u001b[0m\u001b[0mfeature_columns\u001b[0m\u001b[0;34m,\u001b[0m \u001b[0moutputCol\u001b[0m\u001b[0;34m=\u001b[0m\u001b[0;34m\"features\"\u001b[0m\u001b[0;34m)\u001b[0m\u001b[0;34m\u001b[0m\u001b[0;34m\u001b[0m\u001b[0m\n\u001b[0;32m---> 18\u001b[0;31m \u001b[0mtrain_data_assembled\u001b[0m \u001b[0;34m=\u001b[0m \u001b[0massembler\u001b[0m\u001b[0;34m.\u001b[0m\u001b[0mtransform\u001b[0m\u001b[0;34m(\u001b[0m\u001b[0mtrain_data_pd\u001b[0m\u001b[0;34m)\u001b[0m\u001b[0;34m\u001b[0m\u001b[0;34m\u001b[0m\u001b[0m\n\u001b[0m\u001b[1;32m     19\u001b[0m \u001b[0;34m\u001b[0m\u001b[0m\n\u001b[1;32m     20\u001b[0m \u001b[0;31m# Train decision tree model\u001b[0m\u001b[0;34m\u001b[0m\u001b[0;34m\u001b[0m\u001b[0m\n",
      "\u001b[0;32m/opt/hadoop/spark/python/pyspark/ml/base.py\u001b[0m in \u001b[0;36mtransform\u001b[0;34m(self, dataset, params)\u001b[0m\n\u001b[1;32m    260\u001b[0m                 \u001b[0;32mreturn\u001b[0m \u001b[0mself\u001b[0m\u001b[0;34m.\u001b[0m\u001b[0mcopy\u001b[0m\u001b[0;34m(\u001b[0m\u001b[0mparams\u001b[0m\u001b[0;34m)\u001b[0m\u001b[0;34m.\u001b[0m\u001b[0m_transform\u001b[0m\u001b[0;34m(\u001b[0m\u001b[0mdataset\u001b[0m\u001b[0;34m)\u001b[0m\u001b[0;34m\u001b[0m\u001b[0;34m\u001b[0m\u001b[0m\n\u001b[1;32m    261\u001b[0m             \u001b[0;32melse\u001b[0m\u001b[0;34m:\u001b[0m\u001b[0;34m\u001b[0m\u001b[0;34m\u001b[0m\u001b[0m\n\u001b[0;32m--> 262\u001b[0;31m                 \u001b[0;32mreturn\u001b[0m \u001b[0mself\u001b[0m\u001b[0;34m.\u001b[0m\u001b[0m_transform\u001b[0m\u001b[0;34m(\u001b[0m\u001b[0mdataset\u001b[0m\u001b[0;34m)\u001b[0m\u001b[0;34m\u001b[0m\u001b[0;34m\u001b[0m\u001b[0m\n\u001b[0m\u001b[1;32m    263\u001b[0m         \u001b[0;32melse\u001b[0m\u001b[0;34m:\u001b[0m\u001b[0;34m\u001b[0m\u001b[0;34m\u001b[0m\u001b[0m\n\u001b[1;32m    264\u001b[0m             \u001b[0;32mraise\u001b[0m \u001b[0mTypeError\u001b[0m\u001b[0;34m(\u001b[0m\u001b[0;34m\"Params must be a param map but got %s.\"\u001b[0m \u001b[0;34m%\u001b[0m \u001b[0mtype\u001b[0m\u001b[0;34m(\u001b[0m\u001b[0mparams\u001b[0m\u001b[0;34m)\u001b[0m\u001b[0;34m)\u001b[0m\u001b[0;34m\u001b[0m\u001b[0;34m\u001b[0m\u001b[0m\n",
      "\u001b[0;32m/opt/hadoop/spark/python/pyspark/ml/wrapper.py\u001b[0m in \u001b[0;36m_transform\u001b[0;34m(self, dataset)\u001b[0m\n\u001b[1;32m    396\u001b[0m \u001b[0;34m\u001b[0m\u001b[0m\n\u001b[1;32m    397\u001b[0m         \u001b[0mself\u001b[0m\u001b[0;34m.\u001b[0m\u001b[0m_transfer_params_to_java\u001b[0m\u001b[0;34m(\u001b[0m\u001b[0;34m)\u001b[0m\u001b[0;34m\u001b[0m\u001b[0;34m\u001b[0m\u001b[0m\n\u001b[0;32m--> 398\u001b[0;31m         \u001b[0;32mreturn\u001b[0m \u001b[0mDataFrame\u001b[0m\u001b[0;34m(\u001b[0m\u001b[0mself\u001b[0m\u001b[0;34m.\u001b[0m\u001b[0m_java_obj\u001b[0m\u001b[0;34m.\u001b[0m\u001b[0mtransform\u001b[0m\u001b[0;34m(\u001b[0m\u001b[0mdataset\u001b[0m\u001b[0;34m.\u001b[0m\u001b[0m_jdf\u001b[0m\u001b[0;34m)\u001b[0m\u001b[0;34m,\u001b[0m \u001b[0mdataset\u001b[0m\u001b[0;34m.\u001b[0m\u001b[0msparkSession\u001b[0m\u001b[0;34m)\u001b[0m\u001b[0;34m\u001b[0m\u001b[0;34m\u001b[0m\u001b[0m\n\u001b[0m\u001b[1;32m    399\u001b[0m \u001b[0;34m\u001b[0m\u001b[0m\n\u001b[1;32m    400\u001b[0m \u001b[0;34m\u001b[0m\u001b[0m\n",
      "\u001b[0;32m~/.local/lib/python3.10/site-packages/pandas/core/generic.py\u001b[0m in \u001b[0;36m__getattr__\u001b[0;34m(self, name)\u001b[0m\n\u001b[1;32m   6297\u001b[0m         ):\n\u001b[1;32m   6298\u001b[0m             \u001b[0;32mreturn\u001b[0m \u001b[0mself\u001b[0m\u001b[0;34m[\u001b[0m\u001b[0mname\u001b[0m\u001b[0;34m]\u001b[0m\u001b[0;34m\u001b[0m\u001b[0;34m\u001b[0m\u001b[0m\n\u001b[0;32m-> 6299\u001b[0;31m         \u001b[0;32mreturn\u001b[0m \u001b[0mobject\u001b[0m\u001b[0;34m.\u001b[0m\u001b[0m__getattribute__\u001b[0m\u001b[0;34m(\u001b[0m\u001b[0mself\u001b[0m\u001b[0;34m,\u001b[0m \u001b[0mname\u001b[0m\u001b[0;34m)\u001b[0m\u001b[0;34m\u001b[0m\u001b[0;34m\u001b[0m\u001b[0m\n\u001b[0m\u001b[1;32m   6300\u001b[0m \u001b[0;34m\u001b[0m\u001b[0m\n\u001b[1;32m   6301\u001b[0m     \u001b[0;34m@\u001b[0m\u001b[0mfinal\u001b[0m\u001b[0;34m\u001b[0m\u001b[0;34m\u001b[0m\u001b[0m\n",
      "\u001b[0;31mAttributeError\u001b[0m: 'DataFrame' object has no attribute '_jdf'"
     ]
    }
   ],
   "source": [
    "from pyspark.ml import Pipeline\n",
    "from pyspark.ml.feature import VectorAssembler\n",
    "from pyspark.ml.classification import DecisionTreeClassifier\n",
    "from pyspark.ml.evaluation import BinaryClassificationEvaluator\n",
    "from pyspark.ml.tuning import CrossValidator, ParamGridBuilder\n",
    "from py4j.java_gateway import java_import\n",
    "import pydot\n",
    "\n",
    "# Convert Spark DataFrame to Pandas DataFrame for visualization\n",
    "train_data_pd = train_data.toPandas()\n",
    "\n",
    "\n",
    "# Define feature columns\n",
    "feature_columns = train_data.columns\n",
    "feature_columns.remove(\"label\")\n",
    "\n",
    "# Assemble feature vector\n",
    "assembler = VectorAssembler(inputCols=feature_columns, outputCol=\"features\")\n",
    "train_data_assembled = assembler.transform(train_data_pd)\n",
    "\n",
    "# Train decision tree model\n",
    "dt = DecisionTreeClassifier(labelCol=\"target\", featuresCol=\"features\")\n",
    "dt_model = dt.fit(train_data_assembled)\n",
    "\n",
    "# Convert Spark DecisionTreeClassificationModel to Py4j DecisionTreeModel\n",
    "java_import(spark._jvm, \"org.apache.spark.mllib\")\n",
    "java_import(spark._jvm, \"org.apache.spark.mllib.tree.model\")\n",
    "java_import(spark._jvm, \"org.apache.spark.mllib.util.MLWritable\")\n",
    "java_import(spark._jvm, \"org.apache.spark.mllib.util.MLReader\")\n",
    "java_import(spark._jvm, \"org.apache.spark.mllib.tree.DecisionTreeModel\")\n",
    "java_import(spark._jvm, \"org.apache.spark.ml.util.MLWritable\")\n",
    "java_import(spark._jvm, \"org.apache.spark.ml.util.MLReader\")\n",
    "\n",
    "dt_java_model = spark._jvm.org.apache.spark.ml.util.MLWritable.write().overwrite().save(\n",
    "    dt_model._java_obj, \"temp_model\"\n",
    ")\n",
    "dt_mllib_model = spark._jvm.org.apache.spark.mllib.tree.model.DecisionTreeModel.load(\n",
    "    spark._jsc.sc(), \"temp_model\"\n",
    ")\n",
    "\n",
    "# Visualize decision tree\n",
    "dot_data = dt_mllib_model.toDebugString()\n",
    "graph = pydot.graph_from_dot_data(dot_data)\n",
    "graph[0].write_png(\"decision_tree.png\")\n"
   ]
  }
 ],
 "metadata": {
  "kernelspec": {
   "display_name": "Python 3 (ipykernel)",
   "language": "python",
   "name": "python3"
  },
  "language_info": {
   "codemirror_mode": {
    "name": "ipython",
    "version": 3
   },
   "file_extension": ".py",
   "mimetype": "text/x-python",
   "name": "python",
   "nbconvert_exporter": "python",
   "pygments_lexer": "ipython3",
   "version": "3.10.12"
  }
 },
 "nbformat": 4,
 "nbformat_minor": 2
}
